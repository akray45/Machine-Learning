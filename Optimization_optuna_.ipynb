{
 "cells": [
  {
   "cell_type": "markdown",
   "metadata": {
    "id": "uPiw74TZ2-1-"
   },
   "source": [
    "# **Optimization using optuna**"
   ]
  },
  {
   "cell_type": "markdown",
   "metadata": {
    "id": "wJJfngM53JZ7"
   },
   "source": [
    "# **Ensemble Regressors**"
   ]
  },
  {
   "cell_type": "code",
   "execution_count": null,
   "metadata": {
    "id": "9wQX42MD3Q5C"
   },
   "outputs": [],
   "source": [
    "import pandas as pd\n",
    "import numpy as np\n",
    "import seaborn as sns\n",
    "import matplotlib.pyplot as plt\n",
    "import warnings\n",
    "warnings.filterwarnings('ignore')\n",
    "from functools import partial\n",
    "#!pip install optuna\n",
    "import optuna\n",
    "from sklearn.model_selection import cross_val_score\n",
    "from sklearn.metrics import mean_absolute_error, mean_squared_error\n",
    "from sklearn.ensemble import RandomForestRegressor, GradientBoostingRegressor, AdaBoostRegressor, ExtraTreesRegressor\n",
    "from sklearn.model_selection import StratifiedKFold\n",
    "from sklearn.linear_model import Lasso, Ridge, ElasticNet\n",
    "from sklearn.neighbors import KNeighborsRegressor"
   ]
  },
  {
   "cell_type": "code",
   "execution_count": null,
   "metadata": {
    "id": "fiCsk1ke5K5v"
   },
   "outputs": [],
   "source": [
    "def optimize_ensemble(trail, x, y):\n",
    "  n_estimators = trail.suggest_int('n_estimators', 100, 1000)\n",
    "\n",
    "  #criterion = trail.suggest_categorical('criterion', ['mse', 'mae'])\n",
    "\n",
    "  max_depth =  trail.suggest_int('max_depth', 1, 70)\n",
    "\n",
    "  min_samples_split = trail.suggest_int('min_samples_split', 1, 10)\n",
    "\n",
    "  min_samples_leaf =  trail.suggest_int('min_samples_leaf', 1, 10)\n",
    "  \n",
    "  bootstrap = trail.suggest_categorical('bootstrap', [True, False])\n",
    "\n",
    "  max_features = trail.suggest_uniform('max_features', 0.01, 1.0)\n",
    "\n",
    "  ccp_alpha = trail.suggest_uniform('ccp_alpha', 0, 1.0)\n",
    "\n",
    "  model = ExtraTreesRegressor(n_estimators= n_estimators, max_depth= max_depth, min_samples_leaf= min_samples_leaf,\n",
    "                                min_samples_split= min_samples_split, bootstrap= bootstrap,\n",
    "                                max_features= max_features, ccp_alpha = ccp_alpha)\n",
    "  return - np.mean(cross_val_score(model, x, y, cv = 10, scoring = 'neg_mean_absolute_error', n_jobs = -1))\n",
    "  # kf = StratifiedKFold(n_splits= 10)\n",
    "  # mean_error = []\n",
    "  # for idx in kf.split(x, y):\n",
    "  #   train_idx, test_idx = idx[0], idx[1]\n",
    "  #   x_train = x.iloc[train_idx]\n",
    "  #   y_train = y[train_idx]\n",
    "  #   x_test = x.iloc[test_idx]\n",
    "  #   y_test = y[test_idx]\n",
    "  #   model.fit(x_train, y_train)\n",
    "  #   pred = model.predict(x_test)\n",
    "  #   result = mean_absolute_error(y_test, pred)\n",
    "  #   mean_error.append(pred)\n",
    "  #   return -np.mean(mean_error)"
   ]
  },
  {
   "cell_type": "code",
   "execution_count": null,
   "metadata": {
    "colab": {
     "base_uri": "https://localhost:8080/"
    },
    "id": "d9zOZezh_lOg",
    "outputId": "1fb34321-07f7-46e9-dad4-59d71d33139b"
   },
   "outputs": [
    {
     "name": "stderr",
     "output_type": "stream",
     "text": [
      "\u001b[32m[I 2021-08-19 16:59:54,803]\u001b[0m A new study created in memory with name: no-name-1596c178-c215-4be7-b678-9ed69d62d86f\u001b[0m\n",
      "\u001b[32m[I 2021-08-19 16:59:59,703]\u001b[0m Trial 0 finished with value: 3524.0690037506765 and parameters: {'n_estimators': 268, 'max_depth': 3, 'min_samples_split': 4, 'min_samples_leaf': 7, 'bootstrap': True, 'max_features': 0.9216179559086601, 'ccp_alpha': 0.9866721747587908}. Best is trial 0 with value: 3524.0690037506765.\u001b[0m\n",
      "\u001b[32m[I 2021-08-19 17:00:03,897]\u001b[0m Trial 1 finished with value: 5175.516306359286 and parameters: {'n_estimators': 426, 'max_depth': 12, 'min_samples_split': 4, 'min_samples_leaf': 7, 'bootstrap': False, 'max_features': 0.014583938186168821, 'ccp_alpha': 0.3206492626718541}. Best is trial 0 with value: 3524.0690037506765.\u001b[0m\n",
      "\u001b[32m[I 2021-08-19 17:00:09,895]\u001b[0m Trial 2 finished with value: 2534.2861042017857 and parameters: {'n_estimators': 387, 'max_depth': 54, 'min_samples_split': 10, 'min_samples_leaf': 3, 'bootstrap': False, 'max_features': 0.8920941947764417, 'ccp_alpha': 0.8557763379394121}. Best is trial 2 with value: 2534.2861042017857.\u001b[0m\n",
      "\u001b[32m[I 2021-08-19 17:00:11,600]\u001b[0m Trial 3 finished with value: 8216.153675003761 and parameters: {'n_estimators': 144, 'max_depth': 1, 'min_samples_split': 5, 'min_samples_leaf': 7, 'bootstrap': True, 'max_features': 0.19272699103204807, 'ccp_alpha': 0.10082386856238146}. Best is trial 2 with value: 2534.2861042017857.\u001b[0m\n",
      "\u001b[32m[I 2021-08-19 17:00:20,814]\u001b[0m Trial 4 finished with value: 5317.422779766495 and parameters: {'n_estimators': 936, 'max_depth': 55, 'min_samples_split': 2, 'min_samples_leaf': 8, 'bootstrap': False, 'max_features': 0.10534744357059905, 'ccp_alpha': 0.8074135920812818}. Best is trial 2 with value: 2534.2861042017857.\u001b[0m\n",
      "\u001b[33m[W 2021-08-19 17:00:21,258]\u001b[0m Trial 5 failed, because the objective function returned nan.\u001b[0m\n",
      "\u001b[32m[I 2021-08-19 17:00:34,818]\u001b[0m Trial 6 finished with value: 3575.495843977301 and parameters: {'n_estimators': 1000, 'max_depth': 52, 'min_samples_split': 6, 'min_samples_leaf': 10, 'bootstrap': True, 'max_features': 0.5218007343665008, 'ccp_alpha': 0.8517457189156846}. Best is trial 2 with value: 2534.2861042017857.\u001b[0m\n",
      "\u001b[32m[I 2021-08-19 17:00:35,967]\u001b[0m Trial 7 finished with value: 4219.148824227744 and parameters: {'n_estimators': 104, 'max_depth': 45, 'min_samples_split': 5, 'min_samples_leaf': 7, 'bootstrap': False, 'max_features': 0.35706923667528484, 'ccp_alpha': 0.5987524366592154}. Best is trial 2 with value: 2534.2861042017857.\u001b[0m\n",
      "\u001b[32m[I 2021-08-19 17:00:46,993]\u001b[0m Trial 8 finished with value: 4464.539762407147 and parameters: {'n_estimators': 880, 'max_depth': 3, 'min_samples_split': 8, 'min_samples_leaf': 1, 'bootstrap': True, 'max_features': 0.6223795119500108, 'ccp_alpha': 0.08075227417538167}. Best is trial 2 with value: 2534.2861042017857.\u001b[0m\n",
      "\u001b[32m[I 2021-08-19 17:00:52,716]\u001b[0m Trial 9 finished with value: 3583.258886912462 and parameters: {'n_estimators': 418, 'max_depth': 63, 'min_samples_split': 10, 'min_samples_leaf': 10, 'bootstrap': True, 'max_features': 0.57343302921601, 'ccp_alpha': 0.2798072902479962}. Best is trial 2 with value: 2534.2861042017857.\u001b[0m\n",
      "\u001b[32m[I 2021-08-19 17:00:55,241]\u001b[0m Trial 10 finished with value: 3287.942336573301 and parameters: {'n_estimators': 210, 'max_depth': 70, 'min_samples_split': 10, 'min_samples_leaf': 8, 'bootstrap': False, 'max_features': 0.5152952825923719, 'ccp_alpha': 0.5359405856979214}. Best is trial 2 with value: 2534.2861042017857.\u001b[0m\n",
      "\u001b[32m[I 2021-08-19 17:01:06,806]\u001b[0m Trial 11 finished with value: 2531.147949489111 and parameters: {'n_estimators': 702, 'max_depth': 25, 'min_samples_split': 8, 'min_samples_leaf': 3, 'bootstrap': False, 'max_features': 0.9586343032973168, 'ccp_alpha': 0.7015897784839129}. Best is trial 11 with value: 2531.147949489111.\u001b[0m\n",
      "\u001b[32m[I 2021-08-19 17:01:17,640]\u001b[0m Trial 12 finished with value: 2531.811750198631 and parameters: {'n_estimators': 664, 'max_depth': 26, 'min_samples_split': 8, 'min_samples_leaf': 3, 'bootstrap': False, 'max_features': 0.9777690465097172, 'ccp_alpha': 0.7041067808365234}. Best is trial 11 with value: 2531.147949489111.\u001b[0m\n",
      "\u001b[32m[I 2021-08-19 17:01:27,343]\u001b[0m Trial 13 finished with value: 2771.119183208301 and parameters: {'n_estimators': 695, 'max_depth': 27, 'min_samples_split': 8, 'min_samples_leaf': 4, 'bootstrap': False, 'max_features': 0.7480170821478653, 'ccp_alpha': 0.6463066255283647}. Best is trial 11 with value: 2531.147949489111.\u001b[0m\n",
      "\u001b[32m[I 2021-08-19 17:01:38,632]\u001b[0m Trial 14 finished with value: 2521.4727403856864 and parameters: {'n_estimators': 683, 'max_depth': 28, 'min_samples_split': 8, 'min_samples_leaf': 2, 'bootstrap': False, 'max_features': 0.9978685922279117, 'ccp_alpha': 0.6634608172835048}. Best is trial 14 with value: 2521.4727403856864.\u001b[0m\n"
     ]
    }
   ],
   "source": [
    "optimization_function = partial(optimize_ensemble, x = x_train, y = y_train)\n",
    "study = optuna.create_study(direction= 'minimize')\n",
    "study.optimize(optimization_function, n_trials=15)"
   ]
  },
  {
   "cell_type": "markdown",
   "metadata": {
    "id": "U1XIXTicLVeC"
   },
   "source": [
    "# Linear Models Regression"
   ]
  },
  {
   "cell_type": "code",
   "execution_count": null,
   "metadata": {
    "id": "SbpuIzIRLOYl"
   },
   "outputs": [],
   "source": [
    "def optimize_linear_models(trail, x, y):\n",
    "  alpha = trail.suggest_uniform('alpha', 0, 100)\n",
    "  model = ElasticNet(alpha = alpha)\n",
    "  \n",
    "  return - np.mean(cross_val_score(model, x, y, cv = 10, scoring = 'neg_mean_absolute_error', n_jobs = -1))\n",
    "  # kf = StratifiedKFold(n_splits= 10)\n",
    "  # mean_error = []\n",
    "  # for idx in kf.split(x, y):\n",
    "  #   train_idx, test_idx = idx[0], idx[1]\n",
    "  #   x_train = x.iloc[train_idx]\n",
    "  #   y_train = y[train_idx]\n",
    "  #   x_test = x.iloc[test_idx]\n",
    "  #   y_test = y[test_idx]\n",
    "  #   model.fit(x_train, y_train)\n",
    "  #   pred = model.predict(x_test)\n",
    "  #   result = mean_absolute_error(y_test, pred)\n",
    "  #   mean_error.append(pred)\n",
    "  #   return -np.mean(mean_error)"
   ]
  },
  {
   "cell_type": "code",
   "execution_count": null,
   "metadata": {
    "colab": {
     "base_uri": "https://localhost:8080/"
    },
    "id": "lIfVLz8oMnku",
    "outputId": "c0b4dcb4-2354-4e9d-ba3b-c5b206a39469"
   },
   "outputs": [
    {
     "name": "stderr",
     "output_type": "stream",
     "text": [
      "\u001b[32m[I 2021-08-19 17:01:38,670]\u001b[0m A new study created in memory with name: no-name-06e022b2-6250-46f7-9d86-01f4f1b11254\u001b[0m\n",
      "\u001b[32m[I 2021-08-19 17:01:38,739]\u001b[0m Trial 0 finished with value: 9013.118497471603 and parameters: {'alpha': 73.54419566912779}. Best is trial 0 with value: 9013.118497471603.\u001b[0m\n",
      "\u001b[32m[I 2021-08-19 17:01:38,804]\u001b[0m Trial 1 finished with value: 8969.102571843898 and parameters: {'alpha': 29.922208812296102}. Best is trial 1 with value: 8969.102571843898.\u001b[0m\n",
      "\u001b[32m[I 2021-08-19 17:01:38,868]\u001b[0m Trial 2 finished with value: 8997.057328469837 and parameters: {'alpha': 47.41008812924724}. Best is trial 1 with value: 8969.102571843898.\u001b[0m\n",
      "\u001b[32m[I 2021-08-19 17:01:38,934]\u001b[0m Trial 3 finished with value: 8998.91196981003 and parameters: {'alpha': 49.365275328530146}. Best is trial 1 with value: 8969.102571843898.\u001b[0m\n",
      "\u001b[32m[I 2021-08-19 17:01:38,996]\u001b[0m Trial 4 finished with value: 9007.165046421624 and parameters: {'alpha': 60.72863945317578}. Best is trial 1 with value: 8969.102571843898.\u001b[0m\n",
      "\u001b[32m[I 2021-08-19 17:01:39,068]\u001b[0m Trial 5 finished with value: 8974.888347770753 and parameters: {'alpha': 32.37466677643867}. Best is trial 1 with value: 8969.102571843898.\u001b[0m\n",
      "\u001b[32m[I 2021-08-19 17:01:39,144]\u001b[0m Trial 6 finished with value: 8920.993650468652 and parameters: {'alpha': 18.351526761422576}. Best is trial 6 with value: 8920.993650468652.\u001b[0m\n",
      "\u001b[32m[I 2021-08-19 17:01:39,215]\u001b[0m Trial 7 finished with value: 9007.052701573208 and parameters: {'alpha': 60.53484986055295}. Best is trial 6 with value: 8920.993650468652.\u001b[0m\n",
      "\u001b[32m[I 2021-08-19 17:01:39,281]\u001b[0m Trial 8 finished with value: 7437.840289602257 and parameters: {'alpha': 1.1152408408007575}. Best is trial 8 with value: 7437.840289602257.\u001b[0m\n",
      "\u001b[32m[I 2021-08-19 17:01:39,359]\u001b[0m Trial 9 finished with value: 9007.52781482915 and parameters: {'alpha': 61.36402198816964}. Best is trial 8 with value: 7437.840289602257.\u001b[0m\n",
      "\u001b[32m[I 2021-08-19 17:01:39,430]\u001b[0m Trial 10 finished with value: 6528.502715304935 and parameters: {'alpha': 0.5894401749626629}. Best is trial 10 with value: 6528.502715304935.\u001b[0m\n",
      "\u001b[32m[I 2021-08-19 17:01:39,505]\u001b[0m Trial 11 finished with value: 7466.919915906675 and parameters: {'alpha': 1.1420647566937188}. Best is trial 10 with value: 6528.502715304935.\u001b[0m\n",
      "\u001b[32m[I 2021-08-19 17:01:39,573]\u001b[0m Trial 12 finished with value: 5243.745595911646 and parameters: {'alpha': 0.22199407885715705}. Best is trial 12 with value: 5243.745595911646.\u001b[0m\n",
      "\u001b[32m[I 2021-08-19 17:01:39,643]\u001b[0m Trial 13 finished with value: 9019.69402828521 and parameters: {'alpha': 98.71999955054085}. Best is trial 12 with value: 5243.745595911646.\u001b[0m\n",
      "\u001b[32m[I 2021-08-19 17:01:39,714]\u001b[0m Trial 14 finished with value: 8899.305566162531 and parameters: {'alpha': 15.60892433731644}. Best is trial 12 with value: 5243.745595911646.\u001b[0m\n"
     ]
    }
   ],
   "source": [
    "optimization_function = partial(optimize_linear_models, x = x_train, y = y_train)\n",
    "study = optuna.create_study(direction= 'minimize')\n",
    "study.optimize(optimization_function, n_trials=15)"
   ]
  },
  {
   "cell_type": "markdown",
   "metadata": {
    "id": "8X_iYqIoOjYw"
   },
   "source": [
    "# KNN Regressor"
   ]
  },
  {
   "cell_type": "code",
   "execution_count": null,
   "metadata": {
    "id": "lpNd7f2oM2jp"
   },
   "outputs": [],
   "source": [
    "def optimize_knn(trail, x, y):\n",
    "  n_neighbors = trail.suggest_int('n_neighbors', 1, 100)\n",
    "  p = trail.suggest_categorical('p', [1, 2])\n",
    "  model = KNeighborsRegressor(n_neighbors = n_neighbors, p = p)\n",
    "  \n",
    "  return - np.mean(cross_val_score(model, x, y, cv = 10, scoring = 'neg_mean_absolute_error', n_jobs = -1))\n",
    "  # kf = StratifiedKFold(n_splits= 10)\n",
    "  # mean_error = []\n",
    "  # for idx in kf.split(x, y):\n",
    "  #   train_idx, test_idx = idx[0], idx[1]\n",
    "  #   x_train = x.iloc[train_idx]\n",
    "  #   y_train = y[train_idx]\n",
    "  #   x_test = x.iloc[test_idx]\n",
    "  #   y_test = y[test_idx]\n",
    "  #   model.fit(x_train, y_train)\n",
    "  #   pred = model.predict(x_test)\n",
    "  #   result = mean_absolute_error(y_test, pred)\n",
    "  #   mean_error.append(pred)\n",
    "  #   return -np.mean(mean_error)"
   ]
  },
  {
   "cell_type": "code",
   "execution_count": null,
   "metadata": {
    "colab": {
     "base_uri": "https://localhost:8080/"
    },
    "id": "rXes8fCKOrru",
    "outputId": "ab242ab4-c7f9-411b-fd5b-297e3f801db3"
   },
   "outputs": [
    {
     "name": "stderr",
     "output_type": "stream",
     "text": [
      "\u001b[32m[I 2021-08-19 17:01:39,754]\u001b[0m A new study created in memory with name: no-name-e8975c41-de11-4195-bc80-9fe2d398d1c5\u001b[0m\n",
      "\u001b[32m[I 2021-08-19 17:01:39,857]\u001b[0m Trial 0 finished with value: 8854.250328714232 and parameters: {'n_neighbors': 59, 'p': 2}. Best is trial 0 with value: 8854.250328714232.\u001b[0m\n",
      "\u001b[32m[I 2021-08-19 17:01:39,938]\u001b[0m Trial 1 finished with value: 8720.939407521393 and parameters: {'n_neighbors': 36, 'p': 2}. Best is trial 1 with value: 8720.939407521393.\u001b[0m\n",
      "\u001b[32m[I 2021-08-19 17:01:40,019]\u001b[0m Trial 2 finished with value: 7434.1398587811245 and parameters: {'n_neighbors': 26, 'p': 1}. Best is trial 2 with value: 7434.1398587811245.\u001b[0m\n",
      "\u001b[32m[I 2021-08-19 17:01:40,109]\u001b[0m Trial 3 finished with value: 8741.293710153197 and parameters: {'n_neighbors': 38, 'p': 2}. Best is trial 2 with value: 7434.1398587811245.\u001b[0m\n",
      "\u001b[32m[I 2021-08-19 17:01:40,209]\u001b[0m Trial 4 finished with value: 8145.55973549403 and parameters: {'n_neighbors': 100, 'p': 1}. Best is trial 2 with value: 7434.1398587811245.\u001b[0m\n",
      "\u001b[32m[I 2021-08-19 17:01:40,305]\u001b[0m Trial 5 finished with value: 8845.863714753665 and parameters: {'n_neighbors': 53, 'p': 2}. Best is trial 2 with value: 7434.1398587811245.\u001b[0m\n",
      "\u001b[32m[I 2021-08-19 17:01:40,408]\u001b[0m Trial 6 finished with value: 8912.759425942326 and parameters: {'n_neighbors': 91, 'p': 2}. Best is trial 2 with value: 7434.1398587811245.\u001b[0m\n",
      "\u001b[32m[I 2021-08-19 17:01:40,489]\u001b[0m Trial 7 finished with value: 8858.444275162083 and parameters: {'n_neighbors': 58, 'p': 2}. Best is trial 2 with value: 7434.1398587811245.\u001b[0m\n",
      "\u001b[32m[I 2021-08-19 17:01:40,579]\u001b[0m Trial 8 finished with value: 8831.376020629395 and parameters: {'n_neighbors': 62, 'p': 2}. Best is trial 2 with value: 7434.1398587811245.\u001b[0m\n",
      "\u001b[32m[I 2021-08-19 17:01:40,653]\u001b[0m Trial 9 finished with value: 7683.450131262654 and parameters: {'n_neighbors': 5, 'p': 2}. Best is trial 2 with value: 7434.1398587811245.\u001b[0m\n",
      "\u001b[32m[I 2021-08-19 17:01:40,734]\u001b[0m Trial 10 finished with value: 6264.252570042627 and parameters: {'n_neighbors': 3, 'p': 1}. Best is trial 10 with value: 6264.252570042627.\u001b[0m\n",
      "\u001b[32m[I 2021-08-19 17:01:40,814]\u001b[0m Trial 11 finished with value: 6949.232399001898 and parameters: {'n_neighbors': 11, 'p': 1}. Best is trial 10 with value: 6264.252570042627.\u001b[0m\n",
      "\u001b[32m[I 2021-08-19 17:01:40,889]\u001b[0m Trial 12 finished with value: 6446.610975349472 and parameters: {'n_neighbors': 1, 'p': 1}. Best is trial 10 with value: 6264.252570042627.\u001b[0m\n",
      "\u001b[32m[I 2021-08-19 17:01:40,984]\u001b[0m Trial 13 finished with value: 6313.084829308782 and parameters: {'n_neighbors': 2, 'p': 1}. Best is trial 10 with value: 6264.252570042627.\u001b[0m\n",
      "\u001b[32m[I 2021-08-19 17:01:41,067]\u001b[0m Trial 14 finished with value: 7262.8331745354935 and parameters: {'n_neighbors': 20, 'p': 1}. Best is trial 10 with value: 6264.252570042627.\u001b[0m\n"
     ]
    }
   ],
   "source": [
    "optimization_function = partial(optimize_knn, x = x_train, y = y_train)\n",
    "study = optuna.create_study(direction= 'minimize')\n",
    "study.optimize(optimization_function, n_trials=15)"
   ]
  },
  {
   "cell_type": "markdown",
   "metadata": {
    "id": "MtAn5mwtP4Eu"
   },
   "source": [
    "# SVR"
   ]
  },
  {
   "cell_type": "code",
   "execution_count": null,
   "metadata": {
    "id": "MxdPSGycP2qC"
   },
   "outputs": [],
   "source": [
    "from sklearn.svm import SVR\n",
    "def optimize_svr(trail, x, y):\n",
    "  kernel = trail.suggest_categorical('kernel', ['poly', 'rbf'])\n",
    "  C = trail.suggest_uniform('C', 1.0, 10.0)\n",
    "  epsilon = trail.suggest_uniform('epsilon', 0.1, 2)\n",
    "  degree = trail.suggest_int('degree', 2, 10)\n",
    "  model = SVR(kernel = kernel, C = C, epsilon = epsilon, degree = degree)\n",
    "  \n",
    "  return - np.mean(cross_val_score(model, x, y, cv = 10, scoring = 'neg_mean_absolute_error', n_jobs = -1))\n",
    "  # kf = StratifiedKFold(n_splits= 10)\n",
    "  # mean_error = []\n",
    "  # for idx in kf.split(x, y):\n",
    "  #   train_idx, test_idx = idx[0], idx[1]\n",
    "  #   x_train = x.iloc[train_idx]\n",
    "  #   y_train = y[train_idx]\n",
    "  #   x_test = x.iloc[test_idx]\n",
    "  #   y_test = y[test_idx]\n",
    "  #   model.fit(x_train, y_train)\n",
    "  #   pred = model.predict(x_test)\n",
    "  #   result = mean_absolute_error(y_test, pred)\n",
    "  #   mean_error.append(pred)\n",
    "  #   return -np.mean(mean_error)"
   ]
  },
  {
   "cell_type": "code",
   "execution_count": null,
   "metadata": {
    "colab": {
     "base_uri": "https://localhost:8080/"
    },
    "id": "VK3ZlCESRSg_",
    "outputId": "e7d35af0-2def-4b1c-cae4-02b40811e81c"
   },
   "outputs": [
    {
     "name": "stderr",
     "output_type": "stream",
     "text": [
      "\u001b[32m[I 2021-08-19 17:01:41,107]\u001b[0m A new study created in memory with name: no-name-da14dba9-b571-4c68-8975-d56378a99b47\u001b[0m\n",
      "\u001b[32m[I 2021-08-19 17:01:42,061]\u001b[0m Trial 0 finished with value: 7932.219739745054 and parameters: {'kernel': 'rbf', 'C': 9.703405283601066, 'epsilon': 0.8246734910060872, 'degree': 8}. Best is trial 0 with value: 7932.219739745054.\u001b[0m\n",
      "\u001b[32m[I 2021-08-19 17:01:42,816]\u001b[0m Trial 1 finished with value: 7030.397010344338 and parameters: {'kernel': 'poly', 'C': 9.242578950302551, 'epsilon': 0.9267598178687689, 'degree': 5}. Best is trial 1 with value: 7030.397010344338.\u001b[0m\n",
      "\u001b[32m[I 2021-08-19 17:01:43,727]\u001b[0m Trial 2 finished with value: 8145.806110887793 and parameters: {'kernel': 'rbf', 'C': 4.763346577715986, 'epsilon': 0.4948364423740502, 'degree': 2}. Best is trial 1 with value: 7030.397010344338.\u001b[0m\n",
      "\u001b[32m[I 2021-08-19 17:01:44,619]\u001b[0m Trial 3 finished with value: 8233.278187781962 and parameters: {'kernel': 'rbf', 'C': 2.7497389765360105, 'epsilon': 1.4254550918544249, 'degree': 8}. Best is trial 1 with value: 7030.397010344338.\u001b[0m\n",
      "\u001b[32m[I 2021-08-19 17:01:45,515]\u001b[0m Trial 4 finished with value: 8211.353479692061 and parameters: {'kernel': 'rbf', 'C': 3.246829933789662, 'epsilon': 1.9059106493948128, 'degree': 9}. Best is trial 1 with value: 7030.397010344338.\u001b[0m\n",
      "\u001b[32m[I 2021-08-19 17:01:46,149]\u001b[0m Trial 5 finished with value: 7656.520135345178 and parameters: {'kernel': 'poly', 'C': 1.7872960029303235, 'epsilon': 1.2879888548373146, 'degree': 3}. Best is trial 1 with value: 7030.397010344338.\u001b[0m\n",
      "\u001b[32m[I 2021-08-19 17:01:46,808]\u001b[0m Trial 6 finished with value: 7172.767871629248 and parameters: {'kernel': 'poly', 'C': 1.4709903394656376, 'epsilon': 1.9052833072245485, 'degree': 5}. Best is trial 1 with value: 7030.397010344338.\u001b[0m\n",
      "\u001b[32m[I 2021-08-19 17:01:47,694]\u001b[0m Trial 7 finished with value: 7992.1033079725285 and parameters: {'kernel': 'rbf', 'C': 8.329214481155585, 'epsilon': 1.4113389083370547, 'degree': 10}. Best is trial 1 with value: 7030.397010344338.\u001b[0m\n",
      "\u001b[32m[I 2021-08-19 17:01:48,585]\u001b[0m Trial 8 finished with value: 8051.869949244286 and parameters: {'kernel': 'rbf', 'C': 6.939990821251255, 'epsilon': 0.8756019926805486, 'degree': 3}. Best is trial 1 with value: 7030.397010344338.\u001b[0m\n",
      "\u001b[32m[I 2021-08-19 17:01:49,476]\u001b[0m Trial 9 finished with value: 8256.390991304599 and parameters: {'kernel': 'rbf', 'C': 2.2237476527073823, 'epsilon': 1.5651391214742205, 'degree': 9}. Best is trial 1 with value: 7030.397010344338.\u001b[0m\n",
      "\u001b[32m[I 2021-08-19 17:01:50,189]\u001b[0m Trial 10 finished with value: 7133.43212658382 and parameters: {'kernel': 'poly', 'C': 5.764950750311696, 'epsilon': 0.11808000589753409, 'degree': 6}. Best is trial 1 with value: 7030.397010344338.\u001b[0m\n",
      "\u001b[32m[I 2021-08-19 17:01:50,915]\u001b[0m Trial 11 finished with value: 7131.094007568243 and parameters: {'kernel': 'poly', 'C': 6.16021002040302, 'epsilon': 0.10062376717340094, 'degree': 6}. Best is trial 1 with value: 7030.397010344338.\u001b[0m\n",
      "\u001b[32m[I 2021-08-19 17:01:51,633]\u001b[0m Trial 12 finished with value: 7029.0311923521895 and parameters: {'kernel': 'poly', 'C': 9.591259646469911, 'epsilon': 0.1048670357867536, 'degree': 5}. Best is trial 12 with value: 7029.0311923521895.\u001b[0m\n",
      "\u001b[32m[I 2021-08-19 17:01:52,319]\u001b[0m Trial 13 finished with value: 6938.3627819476405 and parameters: {'kernel': 'poly', 'C': 9.94143801293288, 'epsilon': 0.5007236608830135, 'degree': 4}. Best is trial 13 with value: 6938.3627819476405.\u001b[0m\n",
      "\u001b[32m[I 2021-08-19 17:01:53,001]\u001b[0m Trial 14 finished with value: 6949.736211546454 and parameters: {'kernel': 'poly', 'C': 8.054423259852255, 'epsilon': 0.4906519167791887, 'degree': 4}. Best is trial 13 with value: 6938.3627819476405.\u001b[0m\n"
     ]
    }
   ],
   "source": [
    "optimization_function = partial(optimize_svr, x = x_train, y = y_train)\n",
    "study = optuna.create_study(direction= 'minimize')\n",
    "study.optimize(optimization_function, n_trials=15)"
   ]
  },
  {
   "cell_type": "markdown",
   "metadata": {
    "id": "OJdfehK_RtVH"
   },
   "source": [
    "# Decision Tree"
   ]
  },
  {
   "cell_type": "code",
   "execution_count": null,
   "metadata": {
    "id": "jIO3AMRtRZjQ"
   },
   "outputs": [],
   "source": [
    "from sklearn.tree import DecisionTreeRegressor\n",
    "def optimize_dtr(trail, x, y):\n",
    "  criterion = trail.suggest_categorical('criterion', ['mse', 'friedman_mse'])\n",
    "  splitter = trail.suggest_categorical('splitter', ['best', 'random'])\n",
    "  max_depth = trail.suggest_int('max_depth', 1, 80)\n",
    "  min_samples_split = trail.suggest_int('min_samples_split', 1, 10)\n",
    "  min_samples_leaf =  trail.suggest_int('min_samples_leaf', 1, 10)\n",
    "  ccp_alpha = trail.suggest_uniform('ccp_alpha', 0, 1.0)\n",
    "  model = DecisionTreeRegressor(criterion = criterion,\n",
    "                                splitter = splitter,\n",
    "                                max_depth = max_depth,\n",
    "                                min_samples_leaf = min_samples_leaf,\n",
    "                                min_samples_split = min_samples_split,\n",
    "                                ccp_alpha = ccp_alpha)\n",
    "\n",
    "  \n",
    "  return - np.mean(cross_val_score(model, x, y, cv = 10, scoring = 'neg_mean_absolute_error', n_jobs = -1))\n",
    "  # kf = StratifiedKFold(n_splits= 10)\n",
    "  # mean_error = []\n",
    "  # for idx in kf.split(x, y):\n",
    "  #   train_idx, test_idx = idx[0], idx[1]\n",
    "  #   x_train = x.iloc[train_idx]\n",
    "  #   y_train = y[train_idx]\n",
    "  #   x_test = x.iloc[test_idx]\n",
    "  #   y_test = y[test_idx]\n",
    "  #   model.fit(x_train, y_train)\n",
    "  #   pred = model.predict(x_test)\n",
    "  #   result = mean_absolute_error(y_test, pred)\n",
    "  #   mean_error.append(pred)\n",
    "  #   return -np.mean(mean_error)"
   ]
  },
  {
   "cell_type": "code",
   "execution_count": null,
   "metadata": {
    "colab": {
     "base_uri": "https://localhost:8080/"
    },
    "id": "VXoN5Du8TqK5",
    "outputId": "fa99b1df-a125-402f-f3e8-7446372d2a71"
   },
   "outputs": [
    {
     "name": "stderr",
     "output_type": "stream",
     "text": [
      "\u001b[32m[I 2021-08-19 17:01:53,040]\u001b[0m A new study created in memory with name: no-name-843c9d57-dc0e-420b-a1ec-b64557859733\u001b[0m\n",
      "\u001b[32m[I 2021-08-19 17:01:53,107]\u001b[0m Trial 0 finished with value: 2874.7313831053148 and parameters: {'criterion': 'friedman_mse', 'splitter': 'best', 'max_depth': 3, 'min_samples_split': 6, 'min_samples_leaf': 10, 'ccp_alpha': 0.11978324103274718}. Best is trial 0 with value: 2874.7313831053148.\u001b[0m\n",
      "\u001b[32m[I 2021-08-19 17:01:53,179]\u001b[0m Trial 1 finished with value: 2721.02009936493 and parameters: {'criterion': 'mse', 'splitter': 'best', 'max_depth': 37, 'min_samples_split': 6, 'min_samples_leaf': 8, 'ccp_alpha': 0.4998785196476918}. Best is trial 1 with value: 2721.02009936493.\u001b[0m\n",
      "\u001b[32m[I 2021-08-19 17:01:53,251]\u001b[0m Trial 2 finished with value: 2702.840007286254 and parameters: {'criterion': 'friedman_mse', 'splitter': 'best', 'max_depth': 44, 'min_samples_split': 7, 'min_samples_leaf': 9, 'ccp_alpha': 0.2903147982773526}. Best is trial 2 with value: 2702.840007286254.\u001b[0m\n",
      "\u001b[33m[W 2021-08-19 17:01:53,306]\u001b[0m Trial 3 failed, because the objective function returned nan.\u001b[0m\n",
      "\u001b[32m[I 2021-08-19 17:01:53,392]\u001b[0m Trial 4 finished with value: 2830.699864378378 and parameters: {'criterion': 'friedman_mse', 'splitter': 'best', 'max_depth': 75, 'min_samples_split': 5, 'min_samples_leaf': 2, 'ccp_alpha': 0.4837624100115172}. Best is trial 2 with value: 2702.840007286254.\u001b[0m\n",
      "\u001b[32m[I 2021-08-19 17:01:53,473]\u001b[0m Trial 5 finished with value: 2721.02009936493 and parameters: {'criterion': 'friedman_mse', 'splitter': 'best', 'max_depth': 28, 'min_samples_split': 9, 'min_samples_leaf': 8, 'ccp_alpha': 0.8747235390387722}. Best is trial 2 with value: 2702.840007286254.\u001b[0m\n",
      "\u001b[32m[I 2021-08-19 17:01:53,543]\u001b[0m Trial 6 finished with value: 2960.4737665118696 and parameters: {'criterion': 'mse', 'splitter': 'random', 'max_depth': 11, 'min_samples_split': 9, 'min_samples_leaf': 8, 'ccp_alpha': 0.6695259369002456}. Best is trial 2 with value: 2702.840007286254.\u001b[0m\n",
      "\u001b[32m[I 2021-08-19 17:01:53,620]\u001b[0m Trial 7 finished with value: 3089.5059845346714 and parameters: {'criterion': 'mse', 'splitter': 'random', 'max_depth': 65, 'min_samples_split': 9, 'min_samples_leaf': 7, 'ccp_alpha': 0.5993212719595982}. Best is trial 2 with value: 2702.840007286254.\u001b[0m\n",
      "\u001b[32m[I 2021-08-19 17:01:53,697]\u001b[0m Trial 8 finished with value: 2736.365817080983 and parameters: {'criterion': 'mse', 'splitter': 'best', 'max_depth': 32, 'min_samples_split': 8, 'min_samples_leaf': 10, 'ccp_alpha': 0.25649179487582674}. Best is trial 2 with value: 2702.840007286254.\u001b[0m\n",
      "\u001b[32m[I 2021-08-19 17:01:53,773]\u001b[0m Trial 9 finished with value: 2754.424366235194 and parameters: {'criterion': 'friedman_mse', 'splitter': 'best', 'max_depth': 26, 'min_samples_split': 8, 'min_samples_leaf': 4, 'ccp_alpha': 0.699523854118756}. Best is trial 2 with value: 2702.840007286254.\u001b[0m\n",
      "\u001b[32m[I 2021-08-19 17:01:53,836]\u001b[0m Trial 10 finished with value: 4580.202964655973 and parameters: {'criterion': 'mse', 'splitter': 'random', 'max_depth': 2, 'min_samples_split': 2, 'min_samples_leaf': 4, 'ccp_alpha': 0.6640318228694578}. Best is trial 2 with value: 2702.840007286254.\u001b[0m\n",
      "\u001b[32m[I 2021-08-19 17:01:53,919]\u001b[0m Trial 11 finished with value: 2912.2445660374956 and parameters: {'criterion': 'friedman_mse', 'splitter': 'random', 'max_depth': 58, 'min_samples_split': 3, 'min_samples_leaf': 6, 'ccp_alpha': 0.2952280131948732}. Best is trial 2 with value: 2702.840007286254.\u001b[0m\n",
      "\u001b[32m[I 2021-08-19 17:01:54,007]\u001b[0m Trial 12 finished with value: 2702.840007286254 and parameters: {'criterion': 'mse', 'splitter': 'best', 'max_depth': 47, 'min_samples_split': 6, 'min_samples_leaf': 9, 'ccp_alpha': 0.4183181508728164}. Best is trial 2 with value: 2702.840007286254.\u001b[0m\n",
      "\u001b[32m[I 2021-08-19 17:01:54,097]\u001b[0m Trial 13 finished with value: 2736.3714428075446 and parameters: {'criterion': 'friedman_mse', 'splitter': 'best', 'max_depth': 49, 'min_samples_split': 4, 'min_samples_leaf': 10, 'ccp_alpha': 0.015341316538668548}. Best is trial 2 with value: 2702.840007286254.\u001b[0m\n",
      "\u001b[32m[I 2021-08-19 17:01:54,183]\u001b[0m Trial 14 finished with value: 2702.840007286254 and parameters: {'criterion': 'mse', 'splitter': 'best', 'max_depth': 48, 'min_samples_split': 7, 'min_samples_leaf': 9, 'ccp_alpha': 0.34616787004091365}. Best is trial 2 with value: 2702.840007286254.\u001b[0m\n"
     ]
    }
   ],
   "source": [
    "optimization_function = partial(optimize_dtr, x = x_train, y = y_train)\n",
    "study = optuna.create_study(direction= 'minimize')\n",
    "study.optimize(optimization_function, n_trials=15)"
   ]
  },
  {
   "cell_type": "markdown",
   "metadata": {
    "id": "_RwngNSJUKel"
   },
   "source": [
    "# XGBoost Regressor"
   ]
  },
  {
   "cell_type": "code",
   "execution_count": null,
   "metadata": {
    "id": "CwegNtIpUKNY"
   },
   "outputs": [],
   "source": [
    "#!pip install xgboost\n",
    "from xgboost import XGBRegressor\n",
    "def optimize_xgbr(trail, x, y):\n",
    "  n_estimators = trail.suggest_int('n_estimators', 100, 1000)\n",
    "  max_depth =  trail.suggest_int('max_depth', 1, 70)\n",
    "  learning_rate = trail.suggest_uniform('learning_rate', 0.01, 1)\n",
    "  gamma  = trail.suggest_uniform('gamma', 0, 1)\n",
    "  min_child_weight = trail.suggest_int('min_child_weight', 1, 10)\n",
    "  model = XGBRegressor(n_estimators = n_estimators,\n",
    "                       max_depth = max_depth,\n",
    "                       learning_rate = learning_rate,\n",
    "                       gamma = gamma,\n",
    "                       min_child_weight = min_child_weight\n",
    "                       )\n",
    "\n",
    "  \n",
    "  return - np.mean(cross_val_score(model, x, y, cv = 10, scoring = 'neg_mean_absolute_error', n_jobs = -1))\n",
    "  # kf = StratifiedKFold(n_splits= 10)\n",
    "  # mean_error = []\n",
    "  # for idx in kf.split(x, y):\n",
    "  #   train_idx, test_idx = idx[0], idx[1]\n",
    "  #   x_train = x.iloc[train_idx]\n",
    "  #   y_train = y[train_idx]\n",
    "  #   x_test = x.iloc[test_idx]\n",
    "  #   y_test = y[test_idx]\n",
    "  #   model.fit(x_train, y_train)\n",
    "  #   pred = model.predict(x_test)\n",
    "  #   result = mean_absolute_error(y_test, pred)\n",
    "  #   mean_error.append(pred)\n",
    "  #   return -np.mean(mean_error)"
   ]
  },
  {
   "cell_type": "code",
   "execution_count": null,
   "metadata": {
    "colab": {
     "base_uri": "https://localhost:8080/"
    },
    "id": "bc2h6pCmUJ6D",
    "outputId": "03435e84-43d7-41ba-9d08-0f9b0490da99"
   },
   "outputs": [
    {
     "name": "stderr",
     "output_type": "stream",
     "text": [
      "\u001b[32m[I 2021-08-19 17:01:54,341]\u001b[0m A new study created in memory with name: no-name-f29dcf5e-faee-4a8c-9e6f-9230d175c2e2\u001b[0m\n",
      "\u001b[32m[I 2021-08-19 17:02:14,204]\u001b[0m Trial 0 finished with value: 2915.884552902041 and parameters: {'n_estimators': 356, 'max_depth': 43, 'learning_rate': 0.5303392743935041, 'gamma': 0.7357304629696291, 'min_child_weight': 1}. Best is trial 0 with value: 2915.884552902041.\u001b[0m\n",
      "\u001b[32m[I 2021-08-19 17:02:25,500]\u001b[0m Trial 1 finished with value: 2984.771855231 and parameters: {'n_estimators': 556, 'max_depth': 15, 'learning_rate': 0.193706528820632, 'gamma': 0.7452782424712598, 'min_child_weight': 3}. Best is trial 0 with value: 2915.884552902041.\u001b[0m\n",
      "\u001b[32m[I 2021-08-19 17:02:27,161]\u001b[0m Trial 2 finished with value: 3736.10287305119 and parameters: {'n_estimators': 281, 'max_depth': 4, 'learning_rate': 0.6393706520929532, 'gamma': 0.1265596153040175, 'min_child_weight': 7}. Best is trial 0 with value: 2915.884552902041.\u001b[0m\n",
      "\u001b[32m[I 2021-08-19 17:02:31,177]\u001b[0m Trial 3 finished with value: 3015.563547695414 and parameters: {'n_estimators': 106, 'max_depth': 47, 'learning_rate': 0.15630622851719764, 'gamma': 0.7988967858139224, 'min_child_weight': 4}. Best is trial 0 with value: 2915.884552902041.\u001b[0m\n",
      "\u001b[32m[I 2021-08-19 17:02:44,838]\u001b[0m Trial 4 finished with value: 3619.7285565028424 and parameters: {'n_estimators': 395, 'max_depth': 51, 'learning_rate': 0.5797091648249335, 'gamma': 0.24531109239956883, 'min_child_weight': 8}. Best is trial 0 with value: 2915.884552902041.\u001b[0m\n",
      "\u001b[32m[I 2021-08-19 17:03:00,191]\u001b[0m Trial 5 finished with value: 4024.131291033522 and parameters: {'n_estimators': 528, 'max_depth': 25, 'learning_rate': 0.997162439715324, 'gamma': 0.899794985156602, 'min_child_weight': 7}. Best is trial 0 with value: 2915.884552902041.\u001b[0m\n",
      "\u001b[32m[I 2021-08-19 17:03:23,008]\u001b[0m Trial 6 finished with value: 3060.4452963994418 and parameters: {'n_estimators': 602, 'max_depth': 36, 'learning_rate': 0.046491699846560916, 'gamma': 0.8509535726185344, 'min_child_weight': 5}. Best is trial 0 with value: 2915.884552902041.\u001b[0m\n",
      "\u001b[32m[I 2021-08-19 17:03:49,238]\u001b[0m Trial 7 finished with value: 3286.5500381248266 and parameters: {'n_estimators': 914, 'max_depth': 25, 'learning_rate': 0.0947044322380583, 'gamma': 0.27804877327812405, 'min_child_weight': 8}. Best is trial 0 with value: 2915.884552902041.\u001b[0m\n",
      "\u001b[32m[I 2021-08-19 17:03:59,961]\u001b[0m Trial 8 finished with value: 3630.874952360327 and parameters: {'n_estimators': 311, 'max_depth': 58, 'learning_rate': 0.5668106670791067, 'gamma': 0.2215550751459472, 'min_child_weight': 8}. Best is trial 0 with value: 2915.884552902041.\u001b[0m\n",
      "\u001b[32m[I 2021-08-19 17:04:32,520]\u001b[0m Trial 9 finished with value: 3414.455604714856 and parameters: {'n_estimators': 962, 'max_depth': 42, 'learning_rate': 0.40770088034124186, 'gamma': 0.5699024933735575, 'min_child_weight': 8}. Best is trial 0 with value: 2915.884552902041.\u001b[0m\n",
      "\u001b[32m[I 2021-08-19 17:05:12,234]\u001b[0m Trial 10 finished with value: 2969.0317331232327 and parameters: {'n_estimators': 758, 'max_depth': 69, 'learning_rate': 0.8331953653923316, 'gamma': 0.5440601788642965, 'min_child_weight': 1}. Best is trial 0 with value: 2915.884552902041.\u001b[0m\n",
      "\u001b[32m[I 2021-08-19 17:05:52,293]\u001b[0m Trial 11 finished with value: 3021.930851914986 and parameters: {'n_estimators': 752, 'max_depth': 70, 'learning_rate': 0.8613784292093314, 'gamma': 0.5455571507360947, 'min_child_weight': 1}. Best is trial 0 with value: 2915.884552902041.\u001b[0m\n",
      "\u001b[32m[I 2021-08-19 17:06:36,030]\u001b[0m Trial 12 finished with value: 2951.2549808487192 and parameters: {'n_estimators': 748, 'max_depth': 68, 'learning_rate': 0.7809911868436255, 'gamma': 0.6500606414814385, 'min_child_weight': 1}. Best is trial 0 with value: 2915.884552902041.\u001b[0m\n",
      "\u001b[32m[I 2021-08-19 17:07:18,112]\u001b[0m Trial 13 finished with value: 3022.798257737416 and parameters: {'n_estimators': 744, 'max_depth': 59, 'learning_rate': 0.38592681706904947, 'gamma': 0.6820992400095709, 'min_child_weight': 2}. Best is trial 0 with value: 2915.884552902041.\u001b[0m\n",
      "\u001b[32m[I 2021-08-19 17:07:25,197]\u001b[0m Trial 14 finished with value: 3448.053650299219 and parameters: {'n_estimators': 157, 'max_depth': 58, 'learning_rate': 0.7828264755909641, 'gamma': 0.9983969921273806, 'min_child_weight': 3}. Best is trial 0 with value: 2915.884552902041.\u001b[0m\n"
     ]
    }
   ],
   "source": [
    "optimization_function = partial(optimize_xgbr, x = x_train, y = y_train)\n",
    "study = optuna.create_study(direction= 'minimize')\n",
    "study.optimize(optimization_function, n_trials=15)"
   ]
  },
  {
   "cell_type": "markdown",
   "metadata": {
    "id": "pdZ__hubXb2n"
   },
   "source": [
    "# LGBRegressor"
   ]
  },
  {
   "cell_type": "code",
   "execution_count": null,
   "metadata": {
    "id": "dR2PhM59Xaxn"
   },
   "outputs": [],
   "source": [
    "#!pip install lightgbm\n",
    "from lightgbm import LGBMRegressor\n",
    "def optimize_lgbr(trail, x, y):\n",
    "  n_estimators = trail.suggest_int('n_estimators', 100, 1000)\n",
    "  max_depth =  trail.suggest_int('max_depth', -1, 70)\n",
    "  learning_rate = trail.suggest_uniform('learning_rate', 0.01, 1)\n",
    "  gamma  = trail.suggest_uniform('gamma', 0, 1)\n",
    "  min_child_weight = trail.suggest_uniform('min_child_weight', 0.001, 3)\n",
    "  model = LGBMRegressor(n_estimators = n_estimators,\n",
    "                       max_depth = max_depth,\n",
    "                       learning_rate = learning_rate,\n",
    "                       gamma = gamma,\n",
    "                       min_child_weight = min_child_weight\n",
    "                       )\n",
    "\n",
    "  \n",
    "  return - np.mean(cross_val_score(model, x, y, cv = 10, scoring = 'neg_mean_absolute_error', n_jobs = -1))\n",
    "  # kf = StratifiedKFold(n_splits= 10)\n",
    "  # mean_error = []\n",
    "  # for idx in kf.split(x, y):\n",
    "  #   train_idx, test_idx = idx[0], idx[1]\n",
    "  #   x_train = x.iloc[train_idx]\n",
    "  #   y_train = y[train_idx]\n",
    "  #   x_test = x.iloc[test_idx]\n",
    "  #   y_test = y[test_idx]\n",
    "  #   model.fit(x_train, y_train)\n",
    "  #   pred = model.predict(x_test)\n",
    "  #   result = mean_absolute_error(y_test, pred)\n",
    "  #   mean_error.append(pred)\n",
    "  #   return -np.mean(mean_error)"
   ]
  },
  {
   "cell_type": "code",
   "execution_count": null,
   "metadata": {
    "colab": {
     "base_uri": "https://localhost:8080/"
    },
    "id": "uinLox64Xamd",
    "outputId": "9c70b501-1355-4858-97f1-cbcb1b5b4f42"
   },
   "outputs": [
    {
     "name": "stderr",
     "output_type": "stream",
     "text": [
      "\u001b[32m[I 2021-08-19 17:07:54,419]\u001b[0m A new study created in memory with name: no-name-4fc0d239-3641-4c04-9ca4-61064b3c3a83\u001b[0m\n",
      "\u001b[32m[I 2021-08-19 17:07:56,273]\u001b[0m Trial 0 finished with value: 3898.765362899795 and parameters: {'n_estimators': 375, 'max_depth': 11, 'learning_rate': 0.6011957170088678, 'gamma': 0.7168788403589922, 'min_child_weight': 1.953771109871419}. Best is trial 0 with value: 3898.765362899795.\u001b[0m\n",
      "\u001b[32m[I 2021-08-19 17:08:00,570]\u001b[0m Trial 1 finished with value: 3645.1954757270964 and parameters: {'n_estimators': 743, 'max_depth': 46, 'learning_rate': 0.1711036859984021, 'gamma': 0.03637208795378044, 'min_child_weight': 1.9331635776778364}. Best is trial 1 with value: 3645.1954757270964.\u001b[0m\n",
      "\u001b[32m[I 2021-08-19 17:08:01,713]\u001b[0m Trial 2 finished with value: 3436.2913137673336 and parameters: {'n_estimators': 232, 'max_depth': 62, 'learning_rate': 0.2370844177477266, 'gamma': 0.288084739854477, 'min_child_weight': 1.864290275165581}. Best is trial 2 with value: 3436.2913137673336.\u001b[0m\n",
      "\u001b[32m[I 2021-08-19 17:08:02,916]\u001b[0m Trial 3 finished with value: 3417.97976602242 and parameters: {'n_estimators': 245, 'max_depth': 65, 'learning_rate': 0.22556243200094947, 'gamma': 0.006805573690152444, 'min_child_weight': 0.7318730445225394}. Best is trial 3 with value: 3417.97976602242.\u001b[0m\n",
      "\u001b[32m[I 2021-08-19 17:08:03,778]\u001b[0m Trial 4 finished with value: 3584.7201229244483 and parameters: {'n_estimators': 170, 'max_depth': 37, 'learning_rate': 0.4134864017876389, 'gamma': 0.036234852050721966, 'min_child_weight': 2.568205215146666}. Best is trial 3 with value: 3417.97976602242.\u001b[0m\n",
      "\u001b[32m[I 2021-08-19 17:08:07,375]\u001b[0m Trial 5 finished with value: 3921.3043275046484 and parameters: {'n_estimators': 652, 'max_depth': 27, 'learning_rate': 0.5356395396390043, 'gamma': 0.3751296667496228, 'min_child_weight': 0.605820631973077}. Best is trial 3 with value: 3417.97976602242.\u001b[0m\n",
      "\u001b[32m[I 2021-08-19 17:08:07,739]\u001b[0m Trial 6 finished with value: 4507.971232123622 and parameters: {'n_estimators': 449, 'max_depth': 1, 'learning_rate': 0.9662864640475917, 'gamma': 0.7106953004236651, 'min_child_weight': 1.7120404512814567}. Best is trial 3 with value: 3417.97976602242.\u001b[0m\n",
      "\u001b[32m[I 2021-08-19 17:08:09,639]\u001b[0m Trial 7 finished with value: 4132.037877442625 and parameters: {'n_estimators': 408, 'max_depth': 30, 'learning_rate': 0.9323344154257717, 'gamma': 0.9658330420617736, 'min_child_weight': 1.2964921807943677}. Best is trial 3 with value: 3417.97976602242.\u001b[0m\n",
      "\u001b[32m[I 2021-08-19 17:08:12,299]\u001b[0m Trial 8 finished with value: 4188.133760921292 and parameters: {'n_estimators': 473, 'max_depth': 15, 'learning_rate': 0.9954651402733905, 'gamma': 0.5907147492976634, 'min_child_weight': 1.120206218335068}. Best is trial 3 with value: 3417.97976602242.\u001b[0m\n",
      "\u001b[32m[I 2021-08-19 17:08:13,245]\u001b[0m Trial 9 finished with value: 4105.816647554222 and parameters: {'n_estimators': 187, 'max_depth': 13, 'learning_rate': 0.9334986575559674, 'gamma': 0.4995003304712796, 'min_child_weight': 2.268321729261053}. Best is trial 3 with value: 3417.97976602242.\u001b[0m\n",
      "\u001b[32m[I 2021-08-19 17:08:18,519]\u001b[0m Trial 10 finished with value: 3281.434763842621 and parameters: {'n_estimators': 926, 'max_depth': 69, 'learning_rate': 0.0521549375731839, 'gamma': 0.2084206207723404, 'min_child_weight': 0.00853104635848645}. Best is trial 10 with value: 3281.434763842621.\u001b[0m\n",
      "\u001b[32m[I 2021-08-19 17:08:24,048]\u001b[0m Trial 11 finished with value: 3282.1807127369816 and parameters: {'n_estimators': 987, 'max_depth': 66, 'learning_rate': 0.05194682783352688, 'gamma': 0.1909914765776619, 'min_child_weight': 0.1801021157334084}. Best is trial 10 with value: 3281.434763842621.\u001b[0m\n",
      "\u001b[32m[I 2021-08-19 17:08:29,574]\u001b[0m Trial 12 finished with value: 3121.680351499603 and parameters: {'n_estimators': 989, 'max_depth': 70, 'learning_rate': 0.033584791742059486, 'gamma': 0.23472581749567012, 'min_child_weight': 0.08803671729375749}. Best is trial 12 with value: 3121.680351499603.\u001b[0m\n",
      "\u001b[32m[I 2021-08-19 17:08:35,228]\u001b[0m Trial 13 finished with value: 3368.2306816319638 and parameters: {'n_estimators': 998, 'max_depth': 52, 'learning_rate': 0.0625385533049554, 'gamma': 0.2081259039399984, 'min_child_weight': 0.01281319582171303}. Best is trial 12 with value: 3121.680351499603.\u001b[0m\n",
      "\u001b[32m[I 2021-08-19 17:08:39,926]\u001b[0m Trial 14 finished with value: 3852.200761983159 and parameters: {'n_estimators': 847, 'max_depth': 54, 'learning_rate': 0.4134433309942175, 'gamma': 0.39084317541317765, 'min_child_weight': 0.444530124415738}. Best is trial 12 with value: 3121.680351499603.\u001b[0m\n"
     ]
    }
   ],
   "source": [
    "optimization_function = partial(optimize_lgbr, x = x_train, y = y_train)\n",
    "study = optuna.create_study(direction= 'minimize')\n",
    "study.optimize(optimization_function, n_trials=15)"
   ]
  },
  {
   "cell_type": "code",
   "execution_count": null,
   "metadata": {
    "id": "SGKLtw2cY3ju"
   },
   "outputs": [],
   "source": [
    "#!pip install catboost\n",
    "from catboost import CatBoostRegressor\n",
    "\n",
    "def optimize_cbr(trail, x, y):\n",
    "  n_estimators = trail.suggest_int('n_estimators', 100, 1000)\n",
    "  depth =  trail.suggest_int('depth', 0, 10)\n",
    "  learning_rate = trail.suggest_uniform('learning_rate', 0.01, 1)\n",
    "  min_child_samples = trail.suggest_int(' min_child_samples', 0, 10)\n",
    "  model = CatBoostRegressor(n_estimators = n_estimators,\n",
    "                       depth = depth,\n",
    "                       learning_rate = learning_rate,\n",
    "                       min_child_samples = min_child_samples\n",
    "                       )\n",
    "\n",
    "  \n",
    "  return - np.mean(cross_val_score(model, x, y, cv = 10, scoring = 'neg_mean_absolute_error', n_jobs = -1))\n",
    "  # kf = StratifiedKFold(n_splits= 10)\n",
    "  # mean_error = []\n",
    "  # for idx in kf.split(x, y):\n",
    "  #   train_idx, test_idx = idx[0], idx[1]\n",
    "  #   x_train = x.iloc[train_idx]\n",
    "  #   y_train = y[train_idx]\n",
    "  #   x_test = x.iloc[test_idx]\n",
    "  #   y_test = y[test_idx]\n",
    "  #   model.fit(x_train, y_train)\n",
    "  #   pred = model.predict(x_test)\n",
    "  #   result = mean_absolute_error(y_test, pred)\n",
    "  #   mean_error.append(pred)\n",
    "  #   return -np.mean(mean_error)"
   ]
  },
  {
   "cell_type": "code",
   "execution_count": null,
   "metadata": {
    "colab": {
     "base_uri": "https://localhost:8080/"
    },
    "id": "ScTbZQztY48t",
    "outputId": "645e41b2-30e5-4552-cc90-aa7f82a3c93e"
   },
   "outputs": [
    {
     "name": "stderr",
     "output_type": "stream",
     "text": [
      "\u001b[32m[I 2021-08-19 17:20:39,910]\u001b[0m A new study created in memory with name: no-name-4b6532bb-0280-401c-9619-c608fdef2336\u001b[0m\n",
      "\u001b[32m[I 2021-08-19 17:21:30,028]\u001b[0m Trial 0 finished with value: 3351.488076862411 and parameters: {'n_estimators': 685, 'depth': 10, 'learning_rate': 0.7921844052417468, ' min_child_samples': 10}. Best is trial 0 with value: 3351.488076862411.\u001b[0m\n",
      "\u001b[32m[I 2021-08-19 17:21:41,744]\u001b[0m Trial 1 finished with value: 3211.360637065467 and parameters: {'n_estimators': 690, 'depth': 7, 'learning_rate': 0.4459437291346898, ' min_child_samples': 7}. Best is trial 1 with value: 3211.360637065467.\u001b[0m\n",
      "\u001b[32m[I 2021-08-19 17:21:47,769]\u001b[0m Trial 2 finished with value: 2929.2196838402906 and parameters: {'n_estimators': 866, 'depth': 4, 'learning_rate': 0.2134703706112012, ' min_child_samples': 0}. Best is trial 2 with value: 2929.2196838402906.\u001b[0m\n",
      "\u001b[32m[I 2021-08-19 17:21:50,701]\u001b[0m Trial 3 finished with value: 2544.468457952672 and parameters: {'n_estimators': 490, 'depth': 3, 'learning_rate': 0.10545248234097371, ' min_child_samples': 2}. Best is trial 3 with value: 2544.468457952672.\u001b[0m\n",
      "\u001b[32m[I 2021-08-19 17:21:52,648]\u001b[0m Trial 4 finished with value: 9094.991255884972 and parameters: {'n_estimators': 711, 'depth': 0, 'learning_rate': 0.8135471861230764, ' min_child_samples': 7}. Best is trial 3 with value: 2544.468457952672.\u001b[0m\n",
      "\u001b[32m[I 2021-08-19 17:22:03,287]\u001b[0m Trial 5 finished with value: 3165.833313803225 and parameters: {'n_estimators': 631, 'depth': 7, 'learning_rate': 0.3761465568788879, ' min_child_samples': 3}. Best is trial 3 with value: 2544.468457952672.\u001b[0m\n",
      "\u001b[32m[I 2021-08-19 17:22:05,358]\u001b[0m Trial 6 finished with value: 2499.9535229630437 and parameters: {'n_estimators': 274, 'depth': 4, 'learning_rate': 0.020356206293406946, ' min_child_samples': 8}. Best is trial 6 with value: 2499.9535229630437.\u001b[0m\n",
      "\u001b[32m[I 2021-08-19 17:22:07,322]\u001b[0m Trial 7 finished with value: 3201.4195579868383 and parameters: {'n_estimators': 350, 'depth': 3, 'learning_rate': 0.6984442071141536, ' min_child_samples': 1}. Best is trial 6 with value: 2499.9535229630437.\u001b[0m\n",
      "\u001b[32m[I 2021-08-19 17:22:11,955]\u001b[0m Trial 8 finished with value: 2805.7498508316203 and parameters: {'n_estimators': 794, 'depth': 3, 'learning_rate': 0.20345555103761825, ' min_child_samples': 2}. Best is trial 6 with value: 2499.9535229630437.\u001b[0m\n",
      "\u001b[32m[I 2021-08-19 17:22:13,397]\u001b[0m Trial 9 finished with value: 3442.0491697650555 and parameters: {'n_estimators': 153, 'depth': 5, 'learning_rate': 0.9212236287576, ' min_child_samples': 1}. Best is trial 6 with value: 2499.9535229630437.\u001b[0m\n",
      "\u001b[32m[I 2021-08-19 17:22:14,170]\u001b[0m Trial 10 finished with value: 9094.991255827936 and parameters: {'n_estimators': 198, 'depth': 0, 'learning_rate': 0.03344546477585464, ' min_child_samples': 10}. Best is trial 6 with value: 2499.9535229630437.\u001b[0m\n",
      "\u001b[32m[I 2021-08-19 17:22:16,281]\u001b[0m Trial 11 finished with value: 2531.8945400681287 and parameters: {'n_estimators': 432, 'depth': 2, 'learning_rate': 0.029154736133138313, ' min_child_samples': 5}. Best is trial 6 with value: 2499.9535229630437.\u001b[0m\n",
      "\u001b[32m[I 2021-08-19 17:22:18,009]\u001b[0m Trial 12 finished with value: 4357.698950059055 and parameters: {'n_estimators': 392, 'depth': 1, 'learning_rate': 0.27944510379515286, ' min_child_samples': 5}. Best is trial 6 with value: 2499.9535229630437.\u001b[0m\n",
      "\u001b[32m[I 2021-08-19 17:22:19,565]\u001b[0m Trial 13 finished with value: 2534.7987855117954 and parameters: {'n_estimators': 295, 'depth': 2, 'learning_rate': 0.041370159195135536, ' min_child_samples': 7}. Best is trial 6 with value: 2499.9535229630437.\u001b[0m\n",
      "\u001b[32m[I 2021-08-19 17:22:25,787]\u001b[0m Trial 14 finished with value: 3272.1358348310796 and parameters: {'n_estimators': 501, 'depth': 6, 'learning_rate': 0.5017939135187738, ' min_child_samples': 5}. Best is trial 6 with value: 2499.9535229630437.\u001b[0m\n"
     ]
    }
   ],
   "source": [
    "optimization_function = partial(optimize_cbr, x = x_train, y = y_train)\n",
    "study = optuna.create_study(direction= 'minimize')\n",
    "study.optimize(optimization_function, n_trials=15)"
   ]
  },
  {
   "cell_type": "markdown",
   "metadata": {
    "id": "Uc6OUuLvN9UH"
   },
   "source": [
    "# **Classification Algorithms Optimization**"
   ]
  },
  {
   "cell_type": "code",
   "execution_count": 43,
   "metadata": {
    "ExecuteTime": {
     "end_time": "2021-08-22T06:47:25.599345Z",
     "start_time": "2021-08-22T06:47:25.594813Z"
    },
    "colab": {
     "base_uri": "https://localhost:8080/"
    },
    "id": "EQBco94PdxL8",
    "outputId": "f50afa26-ad48-47e6-b31e-07909aaad7a7"
   },
   "outputs": [],
   "source": [
    "from sklearn.datasets import load_iris\n",
    "import pandas as pd\n",
    "import numpy as np\n",
    "#!pip install optuna\n",
    "import optuna\n",
    "iris = load_iris()"
   ]
  },
  {
   "cell_type": "code",
   "execution_count": 44,
   "metadata": {
    "ExecuteTime": {
     "end_time": "2021-08-22T06:47:25.614907Z",
     "start_time": "2021-08-22T06:47:25.600750Z"
    },
    "colab": {
     "base_uri": "https://localhost:8080/",
     "height": 206
    },
    "id": "XsOy0OyTfa80",
    "outputId": "6ae71569-29e6-4cbc-e9c9-7924fe22a1dd"
   },
   "outputs": [
    {
     "data": {
      "text/html": [
       "<div>\n",
       "<style scoped>\n",
       "    .dataframe tbody tr th:only-of-type {\n",
       "        vertical-align: middle;\n",
       "    }\n",
       "\n",
       "    .dataframe tbody tr th {\n",
       "        vertical-align: top;\n",
       "    }\n",
       "\n",
       "    .dataframe thead th {\n",
       "        text-align: right;\n",
       "    }\n",
       "</style>\n",
       "<table border=\"1\" class=\"dataframe\">\n",
       "  <thead>\n",
       "    <tr style=\"text-align: right;\">\n",
       "      <th></th>\n",
       "      <th>sepal length (cm)</th>\n",
       "      <th>sepal width (cm)</th>\n",
       "      <th>petal length (cm)</th>\n",
       "      <th>petal width (cm)</th>\n",
       "    </tr>\n",
       "  </thead>\n",
       "  <tbody>\n",
       "    <tr>\n",
       "      <th>0</th>\n",
       "      <td>5.1</td>\n",
       "      <td>3.5</td>\n",
       "      <td>1.4</td>\n",
       "      <td>0.2</td>\n",
       "    </tr>\n",
       "    <tr>\n",
       "      <th>1</th>\n",
       "      <td>4.9</td>\n",
       "      <td>3.0</td>\n",
       "      <td>1.4</td>\n",
       "      <td>0.2</td>\n",
       "    </tr>\n",
       "    <tr>\n",
       "      <th>2</th>\n",
       "      <td>4.7</td>\n",
       "      <td>3.2</td>\n",
       "      <td>1.3</td>\n",
       "      <td>0.2</td>\n",
       "    </tr>\n",
       "    <tr>\n",
       "      <th>3</th>\n",
       "      <td>4.6</td>\n",
       "      <td>3.1</td>\n",
       "      <td>1.5</td>\n",
       "      <td>0.2</td>\n",
       "    </tr>\n",
       "    <tr>\n",
       "      <th>4</th>\n",
       "      <td>5.0</td>\n",
       "      <td>3.6</td>\n",
       "      <td>1.4</td>\n",
       "      <td>0.2</td>\n",
       "    </tr>\n",
       "  </tbody>\n",
       "</table>\n",
       "</div>"
      ],
      "text/plain": [
       "   sepal length (cm)  sepal width (cm)  petal length (cm)  petal width (cm)\n",
       "0                5.1               3.5                1.4               0.2\n",
       "1                4.9               3.0                1.4               0.2\n",
       "2                4.7               3.2                1.3               0.2\n",
       "3                4.6               3.1                1.5               0.2\n",
       "4                5.0               3.6                1.4               0.2"
      ]
     },
     "execution_count": 44,
     "metadata": {},
     "output_type": "execute_result"
    }
   ],
   "source": [
    "x_train= pd.DataFrame(data = iris.data, columns = iris.feature_names)\n",
    "y_train = iris.target\n",
    "x_train.head()"
   ]
  },
  {
   "cell_type": "markdown",
   "metadata": {
    "id": "LZnB2KSlOG_G"
   },
   "source": [
    "# Ensemble Classification"
   ]
  },
  {
   "cell_type": "code",
   "execution_count": 45,
   "metadata": {
    "ExecuteTime": {
     "end_time": "2021-08-22T06:47:25.620674Z",
     "start_time": "2021-08-22T06:47:25.616075Z"
    },
    "id": "5ZNfx9KzN8jg"
   },
   "outputs": [],
   "source": [
    "from sklearn.metrics import roc_auc_score, accuracy_score, f1_score\n",
    "from sklearn.ensemble import ExtraTreesClassifier\n",
    "from sklearn.model_selection import StratifiedKFold\n",
    "from functools import partial\n",
    "def optimize_ensemble_classification(trail, x, y):\n",
    "  n_estimators = trail.suggest_int('n_estimators', 100, 1000)\n",
    "\n",
    "  criterion = trail.suggest_categorical('criterion', ['gini', 'entropy'])\n",
    "\n",
    "  class_weight = trail.suggest_categorical('class_weight', ['balanced', 'balanced_subsample'])\n",
    "\n",
    "\n",
    "  max_depth =  trail.suggest_int('max_depth', 1, 70)\n",
    "\n",
    "  min_samples_split = trail.suggest_int('min_samples_split', 3, 10)\n",
    "\n",
    "  min_samples_leaf =  trail.suggest_int('min_samples_leaf', 1, 10)\n",
    "  \n",
    "  bootstrap = trail.suggest_categorical('bootstrap', [True, False])\n",
    "\n",
    "  max_features = trail.suggest_uniform('max_features', 0.01, 1.0)\n",
    "\n",
    "  ccp_alpha = trail.suggest_uniform('ccp_alpha', 0, 1.0)\n",
    "\n",
    "  model = ExtraTreesClassifier(n_estimators= n_estimators, max_depth= max_depth, min_samples_leaf= min_samples_leaf,\n",
    "                                min_samples_split= min_samples_split, bootstrap= bootstrap, criterion = criterion, class_weight = class_weight,\n",
    "                                max_features= max_features, ccp_alpha = ccp_alpha)\n",
    "  #return - np.mean(cross_val_score(model, x, y, cv = 10, scoring = 'roc_auc', n_jobs = -1))\n",
    "  kf = StratifiedKFold(n_splits= 10)\n",
    "  mean_metric = []\n",
    "  for idx in kf.split(x, y):\n",
    "    train_idx, test_idx = idx[0], idx[1]\n",
    "    x_train = x.iloc[train_idx]\n",
    "    y_train = y[train_idx]\n",
    "    x_test = x.iloc[test_idx]\n",
    "    y_test = y[test_idx]\n",
    "    model.fit(x_train, y_train)\n",
    "    pred = model.predict(x_test)\n",
    "    result = accuracy_score(y_test, pred)\n",
    "    mean_metric.append(pred)\n",
    "    return -np.mean(mean_metric)"
   ]
  },
  {
   "cell_type": "code",
   "execution_count": 46,
   "metadata": {
    "ExecuteTime": {
     "end_time": "2021-08-22T06:47:30.965481Z",
     "start_time": "2021-08-22T06:47:25.621688Z"
    },
    "id": "WlUqYINvQXgw"
   },
   "outputs": [
    {
     "name": "stderr",
     "output_type": "stream",
     "text": [
      "\u001b[32m[I 2021-08-22 12:17:25,622]\u001b[0m A new study created in memory with name: no-name-bcc9636a-6aa6-440f-b9a9-c03cac628787\u001b[0m\n",
      "\u001b[32m[I 2021-08-22 12:17:25,773]\u001b[0m Trial 0 finished with value: -0.0 and parameters: {'n_estimators': 301, 'criterion': 'gini', 'class_weight': 'balanced', 'max_depth': 45, 'min_samples_split': 6, 'min_samples_leaf': 7, 'bootstrap': False, 'max_features': 0.25795107800368994, 'ccp_alpha': 0.8104200411031433}. Best is trial 0 with value: -0.0.\u001b[0m\n",
      "\u001b[32m[I 2021-08-22 12:17:25,890]\u001b[0m Trial 1 finished with value: -0.6666666666666666 and parameters: {'n_estimators': 228, 'criterion': 'entropy', 'class_weight': 'balanced', 'max_depth': 21, 'min_samples_split': 8, 'min_samples_leaf': 1, 'bootstrap': False, 'max_features': 0.7157835600098752, 'ccp_alpha': 0.8910820574153876}. Best is trial 1 with value: -0.6666666666666666.\u001b[0m\n",
      "\u001b[32m[I 2021-08-22 12:17:26,453]\u001b[0m Trial 2 finished with value: -1.0 and parameters: {'n_estimators': 755, 'criterion': 'entropy', 'class_weight': 'balanced_subsample', 'max_depth': 67, 'min_samples_split': 6, 'min_samples_leaf': 7, 'bootstrap': True, 'max_features': 0.9515407256910527, 'ccp_alpha': 0.1908547130899606}. Best is trial 2 with value: -1.0.\u001b[0m\n",
      "\u001b[32m[I 2021-08-22 12:17:26,616]\u001b[0m Trial 3 finished with value: -1.0666666666666667 and parameters: {'n_estimators': 271, 'criterion': 'gini', 'class_weight': 'balanced', 'max_depth': 14, 'min_samples_split': 4, 'min_samples_leaf': 10, 'bootstrap': True, 'max_features': 0.1957708035518699, 'ccp_alpha': 0.15167402250320028}. Best is trial 3 with value: -1.0666666666666667.\u001b[0m\n",
      "\u001b[32m[I 2021-08-22 12:17:27,061]\u001b[0m Trial 4 finished with value: -0.0 and parameters: {'n_estimators': 594, 'criterion': 'gini', 'class_weight': 'balanced_subsample', 'max_depth': 69, 'min_samples_split': 10, 'min_samples_leaf': 5, 'bootstrap': True, 'max_features': 0.6471712394439171, 'ccp_alpha': 0.8479680299703165}. Best is trial 3 with value: -1.0666666666666667.\u001b[0m\n",
      "\u001b[32m[I 2021-08-22 12:17:27,636]\u001b[0m Trial 5 finished with value: -1.0 and parameters: {'n_estimators': 886, 'criterion': 'gini', 'class_weight': 'balanced', 'max_depth': 67, 'min_samples_split': 4, 'min_samples_leaf': 7, 'bootstrap': True, 'max_features': 0.8083588765495077, 'ccp_alpha': 0.2130747998791176}. Best is trial 3 with value: -1.0666666666666667.\u001b[0m\n",
      "\u001b[32m[I 2021-08-22 12:17:28,025]\u001b[0m Trial 6 finished with value: -1.0666666666666667 and parameters: {'n_estimators': 724, 'criterion': 'entropy', 'class_weight': 'balanced', 'max_depth': 20, 'min_samples_split': 9, 'min_samples_leaf': 8, 'bootstrap': False, 'max_features': 0.5102328541018138, 'ccp_alpha': 0.5487202994614196}. Best is trial 3 with value: -1.0666666666666667.\u001b[0m\n",
      "\u001b[32m[I 2021-08-22 12:17:28,202]\u001b[0m Trial 7 finished with value: -1.0 and parameters: {'n_estimators': 195, 'criterion': 'entropy', 'class_weight': 'balanced', 'max_depth': 41, 'min_samples_split': 6, 'min_samples_leaf': 3, 'bootstrap': True, 'max_features': 0.8603762397511929, 'ccp_alpha': 0.14541386869874162}. Best is trial 3 with value: -1.0666666666666667.\u001b[0m\n",
      "\u001b[32m[I 2021-08-22 12:17:28,447]\u001b[0m Trial 8 finished with value: -1.0666666666666667 and parameters: {'n_estimators': 243, 'criterion': 'entropy', 'class_weight': 'balanced', 'max_depth': 57, 'min_samples_split': 3, 'min_samples_leaf': 6, 'bootstrap': True, 'max_features': 0.06330386168682972, 'ccp_alpha': 0.2015231871639429}. Best is trial 3 with value: -1.0666666666666667.\u001b[0m\n",
      "\u001b[32m[I 2021-08-22 12:17:28,983]\u001b[0m Trial 9 finished with value: -1.3333333333333333 and parameters: {'n_estimators': 636, 'criterion': 'entropy', 'class_weight': 'balanced_subsample', 'max_depth': 50, 'min_samples_split': 3, 'min_samples_leaf': 6, 'bootstrap': False, 'max_features': 0.3354047682454533, 'ccp_alpha': 0.8446229595555195}. Best is trial 9 with value: -1.3333333333333333.\u001b[0m\n",
      "\u001b[32m[I 2021-08-22 12:17:29,404]\u001b[0m Trial 10 finished with value: -1.2 and parameters: {'n_estimators': 469, 'criterion': 'entropy', 'class_weight': 'balanced_subsample', 'max_depth': 3, 'min_samples_split': 3, 'min_samples_leaf': 4, 'bootstrap': False, 'max_features': 0.3900247817687679, 'ccp_alpha': 0.5991035905827382}. Best is trial 9 with value: -1.3333333333333333.\u001b[0m\n",
      "\u001b[32m[I 2021-08-22 12:17:29,789]\u001b[0m Trial 11 finished with value: -1.1333333333333333 and parameters: {'n_estimators': 447, 'criterion': 'entropy', 'class_weight': 'balanced_subsample', 'max_depth': 2, 'min_samples_split': 3, 'min_samples_leaf': 4, 'bootstrap': False, 'max_features': 0.3763606731517074, 'ccp_alpha': 0.6050193579577141}. Best is trial 9 with value: -1.3333333333333333.\u001b[0m\n",
      "\u001b[32m[I 2021-08-22 12:17:30,135]\u001b[0m Trial 12 finished with value: -1.3333333333333333 and parameters: {'n_estimators': 518, 'criterion': 'entropy', 'class_weight': 'balanced_subsample', 'max_depth': 34, 'min_samples_split': 4, 'min_samples_leaf': 2, 'bootstrap': False, 'max_features': 0.48329992921897225, 'ccp_alpha': 0.709412716803947}. Best is trial 9 with value: -1.3333333333333333.\u001b[0m\n",
      "\u001b[32m[I 2021-08-22 12:17:30,461]\u001b[0m Trial 13 finished with value: -1.3333333333333333 and parameters: {'n_estimators': 607, 'criterion': 'entropy', 'class_weight': 'balanced_subsample', 'max_depth': 32, 'min_samples_split': 5, 'min_samples_leaf': 1, 'bootstrap': False, 'max_features': 0.5152414470442594, 'ccp_alpha': 0.7279951565967011}. Best is trial 9 with value: -1.3333333333333333.\u001b[0m\n",
      "\u001b[32m[I 2021-08-22 12:17:30,963]\u001b[0m Trial 14 finished with value: -0.0 and parameters: {'n_estimators': 1000, 'criterion': 'entropy', 'class_weight': 'balanced_subsample', 'max_depth': 52, 'min_samples_split': 4, 'min_samples_leaf': 3, 'bootstrap': False, 'max_features': 0.3419848835009459, 'ccp_alpha': 0.9936874058453502}. Best is trial 9 with value: -1.3333333333333333.\u001b[0m\n"
     ]
    }
   ],
   "source": [
    "optimization_function = partial(optimize_ensemble_classification, x = x_train, y = y_train)\n",
    "study = optuna.create_study(direction= 'minimize')\n",
    "study.optimize(optimization_function, n_trials=15)"
   ]
  },
  {
   "cell_type": "markdown",
   "metadata": {
    "id": "unVQGXPzQsHP"
   },
   "source": [
    "# Logistic Regression"
   ]
  },
  {
   "cell_type": "code",
   "execution_count": 47,
   "metadata": {
    "ExecuteTime": {
     "end_time": "2021-08-22T06:47:30.970498Z",
     "start_time": "2021-08-22T06:47:30.966454Z"
    },
    "id": "othAmzwvQyFq"
   },
   "outputs": [],
   "source": [
    "from sklearn.linear_model import LogisticRegression\n",
    "from sklearn.metrics import roc_auc_score, accuracy_score, f1_score\n",
    "def optimize_logistic(trail, x, y):\n",
    "  penalty = trail.suggest_categorical(\"penalty\", [\"l1\", \"l2\"])\n",
    "  C = trail.suggest_uniform('C', 0.001, 100)\n",
    "  class_weight = trail.suggest_categorical('class_weight', ['balanced', None])\n",
    "  solver = trail.suggest_categorical('solver', ['liblinear', 'saga'])\n",
    "  model = LogisticRegression(penalty = penalty, C = C, class_weight = class_weight, solver = solver)\n",
    "  \n",
    "  #return - np.mean(cross_val_score(model, x, y, cv = 10, scoring = 'roc_auc', n_jobs = -1))\n",
    "  kf = StratifiedKFold(n_splits= 10)\n",
    "  mean_metric = []\n",
    "  for idx in kf.split(x, y):\n",
    "    train_idx, test_idx = idx[0], idx[1]\n",
    "    x_train = x.iloc[train_idx]\n",
    "    y_train = y[train_idx]\n",
    "    x_test = x.iloc[test_idx]\n",
    "    y_test = y[test_idx]\n",
    "    model.fit(x_train, y_train)\n",
    "    pred = model.predict(x_test)\n",
    "    result = accuracy_score(y_test, pred)\n",
    "    mean_metric.append(pred)\n",
    "    return -np.mean(mean_metric)"
   ]
  },
  {
   "cell_type": "code",
   "execution_count": 48,
   "metadata": {
    "ExecuteTime": {
     "end_time": "2021-08-22T06:47:31.116491Z",
     "start_time": "2021-08-22T06:47:30.971691Z"
    },
    "id": "RjMCGa9caLxc"
   },
   "outputs": [
    {
     "name": "stderr",
     "output_type": "stream",
     "text": [
      "\u001b[32m[I 2021-08-22 12:17:30,981]\u001b[0m A new study created in memory with name: no-name-9f4041c5-7e76-473d-9502-f802048b4a01\u001b[0m\n",
      "/home/akshay.ray@npci.org.in/anaconda3/lib/python3.8/site-packages/sklearn/linear_model/_sag.py:328: ConvergenceWarning: The max_iter was reached which means the coef_ did not converge\n",
      "  warnings.warn(\"The max_iter was reached which means \"\n",
      "\u001b[32m[I 2021-08-22 12:17:30,989]\u001b[0m Trial 0 finished with value: -1.0 and parameters: {'penalty': 'l1', 'C': 61.55289049145759, 'class_weight': 'balanced', 'solver': 'saga'}. Best is trial 0 with value: -1.0.\u001b[0m\n",
      "/home/akshay.ray@npci.org.in/anaconda3/lib/python3.8/site-packages/sklearn/linear_model/_sag.py:328: ConvergenceWarning: The max_iter was reached which means the coef_ did not converge\n",
      "  warnings.warn(\"The max_iter was reached which means \"\n",
      "\u001b[32m[I 2021-08-22 12:17:30,995]\u001b[0m Trial 1 finished with value: -1.0 and parameters: {'penalty': 'l1', 'C': 42.89175670243155, 'class_weight': 'balanced', 'solver': 'saga'}. Best is trial 0 with value: -1.0.\u001b[0m\n",
      "/home/akshay.ray@npci.org.in/anaconda3/lib/python3.8/site-packages/sklearn/linear_model/_sag.py:328: ConvergenceWarning: The max_iter was reached which means the coef_ did not converge\n",
      "  warnings.warn(\"The max_iter was reached which means \"\n",
      "\u001b[32m[I 2021-08-22 12:17:31,002]\u001b[0m Trial 2 finished with value: -1.0 and parameters: {'penalty': 'l1', 'C': 33.687538302150394, 'class_weight': 'balanced', 'solver': 'saga'}. Best is trial 0 with value: -1.0.\u001b[0m\n",
      "/home/akshay.ray@npci.org.in/anaconda3/lib/python3.8/site-packages/sklearn/linear_model/_sag.py:328: ConvergenceWarning: The max_iter was reached which means the coef_ did not converge\n",
      "  warnings.warn(\"The max_iter was reached which means \"\n",
      "\u001b[32m[I 2021-08-22 12:17:31,008]\u001b[0m Trial 3 finished with value: -1.0 and parameters: {'penalty': 'l2', 'C': 60.775941030920904, 'class_weight': None, 'solver': 'saga'}. Best is trial 0 with value: -1.0.\u001b[0m\n",
      "\u001b[32m[I 2021-08-22 12:17:31,022]\u001b[0m Trial 4 finished with value: -1.0 and parameters: {'penalty': 'l1', 'C': 59.84499419739783, 'class_weight': 'balanced', 'solver': 'liblinear'}. Best is trial 0 with value: -1.0.\u001b[0m\n",
      "/home/akshay.ray@npci.org.in/anaconda3/lib/python3.8/site-packages/sklearn/linear_model/_sag.py:328: ConvergenceWarning: The max_iter was reached which means the coef_ did not converge\n",
      "  warnings.warn(\"The max_iter was reached which means \"\n",
      "\u001b[32m[I 2021-08-22 12:17:31,028]\u001b[0m Trial 5 finished with value: -1.0 and parameters: {'penalty': 'l2', 'C': 38.964953103523726, 'class_weight': None, 'solver': 'saga'}. Best is trial 0 with value: -1.0.\u001b[0m\n",
      "\u001b[32m[I 2021-08-22 12:17:31,042]\u001b[0m Trial 6 finished with value: -1.0 and parameters: {'penalty': 'l1', 'C': 67.28708546216646, 'class_weight': None, 'solver': 'liblinear'}. Best is trial 0 with value: -1.0.\u001b[0m\n",
      "/home/akshay.ray@npci.org.in/anaconda3/lib/python3.8/site-packages/sklearn/linear_model/_sag.py:328: ConvergenceWarning: The max_iter was reached which means the coef_ did not converge\n",
      "  warnings.warn(\"The max_iter was reached which means \"\n",
      "\u001b[32m[I 2021-08-22 12:17:31,050]\u001b[0m Trial 7 finished with value: -1.0 and parameters: {'penalty': 'l2', 'C': 58.70606104633366, 'class_weight': None, 'solver': 'saga'}. Best is trial 0 with value: -1.0.\u001b[0m\n",
      "\u001b[32m[I 2021-08-22 12:17:31,064]\u001b[0m Trial 8 finished with value: -1.0 and parameters: {'penalty': 'l1', 'C': 51.70783989815922, 'class_weight': 'balanced', 'solver': 'liblinear'}. Best is trial 0 with value: -1.0.\u001b[0m\n",
      "/home/akshay.ray@npci.org.in/anaconda3/lib/python3.8/site-packages/sklearn/linear_model/_sag.py:328: ConvergenceWarning: The max_iter was reached which means the coef_ did not converge\n",
      "  warnings.warn(\"The max_iter was reached which means \"\n",
      "\u001b[32m[I 2021-08-22 12:17:31,071]\u001b[0m Trial 9 finished with value: -1.0 and parameters: {'penalty': 'l1', 'C': 63.69931042760177, 'class_weight': None, 'solver': 'saga'}. Best is trial 0 with value: -1.0.\u001b[0m\n",
      "\u001b[32m[I 2021-08-22 12:17:31,078]\u001b[0m Trial 10 finished with value: -1.0 and parameters: {'penalty': 'l2', 'C': 93.00302171458851, 'class_weight': None, 'solver': 'liblinear'}. Best is trial 0 with value: -1.0.\u001b[0m\n",
      "/home/akshay.ray@npci.org.in/anaconda3/lib/python3.8/site-packages/sklearn/linear_model/_sag.py:328: ConvergenceWarning: The max_iter was reached which means the coef_ did not converge\n",
      "  warnings.warn(\"The max_iter was reached which means \"\n",
      "\u001b[32m[I 2021-08-22 12:17:31,087]\u001b[0m Trial 11 finished with value: -1.0 and parameters: {'penalty': 'l1', 'C': 16.801768596169353, 'class_weight': None, 'solver': 'saga'}. Best is trial 0 with value: -1.0.\u001b[0m\n",
      "/home/akshay.ray@npci.org.in/anaconda3/lib/python3.8/site-packages/sklearn/linear_model/_sag.py:328: ConvergenceWarning: The max_iter was reached which means the coef_ did not converge\n",
      "  warnings.warn(\"The max_iter was reached which means \"\n",
      "\u001b[32m[I 2021-08-22 12:17:31,095]\u001b[0m Trial 12 finished with value: -1.0 and parameters: {'penalty': 'l1', 'C': 84.06697818374963, 'class_weight': None, 'solver': 'saga'}. Best is trial 0 with value: -1.0.\u001b[0m\n",
      "/home/akshay.ray@npci.org.in/anaconda3/lib/python3.8/site-packages/sklearn/linear_model/_sag.py:328: ConvergenceWarning: The max_iter was reached which means the coef_ did not converge\n",
      "  warnings.warn(\"The max_iter was reached which means \"\n",
      "\u001b[32m[I 2021-08-22 12:17:31,105]\u001b[0m Trial 13 finished with value: -1.0 and parameters: {'penalty': 'l1', 'C': 13.468544333040686, 'class_weight': None, 'solver': 'saga'}. Best is trial 0 with value: -1.0.\u001b[0m\n",
      "/home/akshay.ray@npci.org.in/anaconda3/lib/python3.8/site-packages/sklearn/linear_model/_sag.py:328: ConvergenceWarning: The max_iter was reached which means the coef_ did not converge\n",
      "  warnings.warn(\"The max_iter was reached which means \"\n",
      "\u001b[32m[I 2021-08-22 12:17:31,114]\u001b[0m Trial 14 finished with value: -1.0 and parameters: {'penalty': 'l1', 'C': 35.732901273926764, 'class_weight': None, 'solver': 'saga'}. Best is trial 0 with value: -1.0.\u001b[0m\n"
     ]
    }
   ],
   "source": [
    "optimization_function = partial(optimize_logistic, x = x_train, y = y_train)\n",
    "study = optuna.create_study(direction= 'minimize')\n",
    "study.optimize(optimization_function, n_trials=15)"
   ]
  },
  {
   "cell_type": "markdown",
   "metadata": {
    "id": "GJ5tPynCaX5f"
   },
   "source": [
    "# KNN Classifier"
   ]
  },
  {
   "cell_type": "code",
   "execution_count": 49,
   "metadata": {
    "ExecuteTime": {
     "end_time": "2021-08-22T06:47:31.121614Z",
     "start_time": "2021-08-22T06:47:31.117912Z"
    },
    "id": "jgpkKZneabEX"
   },
   "outputs": [],
   "source": [
    "from sklearn.neighbors import KNeighborsClassifier\n",
    "from sklearn.metrics import roc_auc_score, accuracy_score, f1_score\n",
    "def optimize_knn_classifier(trail, x, y):\n",
    "  n_neighbors = trail.suggest_int('n_neighbors', 3, 100)\n",
    "  p = trail.suggest_categorical('p', [2, 3])\n",
    "  weights = trail.suggest_categorical('weights', ['uniform', 'distance'])\n",
    "  model = KNeighborsClassifier(n_neighbors = n_neighbors, p = p, weights = weights)\n",
    "\n",
    "  \n",
    "  #return - np.mean(cross_val_score(model, x, y, cv = 10, scoring = 'roc_auc', n_jobs = -1))\n",
    "  kf = StratifiedKFold(n_splits= 10)\n",
    "  mean_metric = []\n",
    "  for idx in kf.split(x, y):\n",
    "    train_idx, test_idx = idx[0], idx[1]\n",
    "    x_train = x.iloc[train_idx]\n",
    "    y_train = y[train_idx]\n",
    "    x_test = x.iloc[test_idx]\n",
    "    y_test = y[test_idx]\n",
    "    model.fit(x_train, y_train)\n",
    "    pred = model.predict(x_test)\n",
    "    result = accuracy_score(y_test, pred)\n",
    "    mean_metric.append(pred)\n",
    "    return -np.mean(mean_metric)"
   ]
  },
  {
   "cell_type": "code",
   "execution_count": 50,
   "metadata": {
    "ExecuteTime": {
     "end_time": "2021-08-22T06:47:31.206846Z",
     "start_time": "2021-08-22T06:47:31.122870Z"
    },
    "id": "DCIKtDQJbPam"
   },
   "outputs": [
    {
     "name": "stderr",
     "output_type": "stream",
     "text": [
      "\u001b[32m[I 2021-08-22 12:17:31,125]\u001b[0m A new study created in memory with name: no-name-b809b696-11a8-4c97-bb2c-7bc9e0d2343b\u001b[0m\n",
      "\u001b[32m[I 2021-08-22 12:17:31,131]\u001b[0m Trial 0 finished with value: -1.0666666666666667 and parameters: {'n_neighbors': 72, 'p': 3, 'weights': 'uniform'}. Best is trial 0 with value: -1.0666666666666667.\u001b[0m\n",
      "\u001b[32m[I 2021-08-22 12:17:31,136]\u001b[0m Trial 1 finished with value: -1.0 and parameters: {'n_neighbors': 6, 'p': 2, 'weights': 'distance'}. Best is trial 0 with value: -1.0666666666666667.\u001b[0m\n",
      "\u001b[32m[I 2021-08-22 12:17:31,139]\u001b[0m Trial 2 finished with value: -1.0 and parameters: {'n_neighbors': 80, 'p': 3, 'weights': 'distance'}. Best is trial 0 with value: -1.0666666666666667.\u001b[0m\n",
      "\u001b[32m[I 2021-08-22 12:17:31,145]\u001b[0m Trial 3 finished with value: -0.6666666666666666 and parameters: {'n_neighbors': 97, 'p': 3, 'weights': 'uniform'}. Best is trial 0 with value: -1.0666666666666667.\u001b[0m\n",
      "\u001b[32m[I 2021-08-22 12:17:31,149]\u001b[0m Trial 4 finished with value: -0.9333333333333333 and parameters: {'n_neighbors': 78, 'p': 3, 'weights': 'uniform'}. Best is trial 0 with value: -1.0666666666666667.\u001b[0m\n",
      "\u001b[32m[I 2021-08-22 12:17:31,153]\u001b[0m Trial 5 finished with value: -1.0 and parameters: {'n_neighbors': 12, 'p': 3, 'weights': 'uniform'}. Best is trial 0 with value: -1.0666666666666667.\u001b[0m\n",
      "\u001b[32m[I 2021-08-22 12:17:31,157]\u001b[0m Trial 6 finished with value: -1.0 and parameters: {'n_neighbors': 79, 'p': 2, 'weights': 'distance'}. Best is trial 0 with value: -1.0666666666666667.\u001b[0m\n",
      "\u001b[32m[I 2021-08-22 12:17:31,162]\u001b[0m Trial 7 finished with value: -1.0666666666666667 and parameters: {'n_neighbors': 66, 'p': 2, 'weights': 'uniform'}. Best is trial 0 with value: -1.0666666666666667.\u001b[0m\n",
      "\u001b[32m[I 2021-08-22 12:17:31,167]\u001b[0m Trial 8 finished with value: -1.1333333333333333 and parameters: {'n_neighbors': 53, 'p': 2, 'weights': 'uniform'}. Best is trial 8 with value: -1.1333333333333333.\u001b[0m\n",
      "\u001b[32m[I 2021-08-22 12:17:31,171]\u001b[0m Trial 9 finished with value: -1.0 and parameters: {'n_neighbors': 74, 'p': 3, 'weights': 'distance'}. Best is trial 8 with value: -1.1333333333333333.\u001b[0m\n",
      "\u001b[32m[I 2021-08-22 12:17:31,178]\u001b[0m Trial 10 finished with value: -1.0666666666666667 and parameters: {'n_neighbors': 35, 'p': 2, 'weights': 'uniform'}. Best is trial 8 with value: -1.1333333333333333.\u001b[0m\n",
      "\u001b[32m[I 2021-08-22 12:17:31,186]\u001b[0m Trial 11 finished with value: -1.0666666666666667 and parameters: {'n_neighbors': 42, 'p': 2, 'weights': 'uniform'}. Best is trial 8 with value: -1.1333333333333333.\u001b[0m\n",
      "\u001b[32m[I 2021-08-22 12:17:31,194]\u001b[0m Trial 12 finished with value: -1.1333333333333333 and parameters: {'n_neighbors': 54, 'p': 3, 'weights': 'uniform'}. Best is trial 8 with value: -1.1333333333333333.\u001b[0m\n",
      "\u001b[32m[I 2021-08-22 12:17:31,199]\u001b[0m Trial 13 finished with value: -1.1333333333333333 and parameters: {'n_neighbors': 53, 'p': 2, 'weights': 'uniform'}. Best is trial 8 with value: -1.1333333333333333.\u001b[0m\n",
      "\u001b[32m[I 2021-08-22 12:17:31,205]\u001b[0m Trial 14 finished with value: -1.0666666666666667 and parameters: {'n_neighbors': 27, 'p': 2, 'weights': 'uniform'}. Best is trial 8 with value: -1.1333333333333333.\u001b[0m\n"
     ]
    }
   ],
   "source": [
    "optimization_function = partial(optimize_knn_classifier, x = x_train, y = y_train)\n",
    "study = optuna.create_study(direction= 'minimize')\n",
    "study.optimize(optimization_function, n_trials=15)"
   ]
  },
  {
   "cell_type": "markdown",
   "metadata": {
    "id": "7Oy07fYnbW1p"
   },
   "source": [
    "# SVC"
   ]
  },
  {
   "cell_type": "code",
   "execution_count": 51,
   "metadata": {
    "ExecuteTime": {
     "end_time": "2021-08-22T06:47:31.212619Z",
     "start_time": "2021-08-22T06:47:31.207895Z"
    },
    "id": "HrwaSHtjbjT1"
   },
   "outputs": [],
   "source": [
    "from sklearn.svm import SVC\n",
    "def optimize_svc(trail, x, y):\n",
    "  kernel = trail.suggest_categorical('kernel', ['poly', 'rbf'])\n",
    "  C = trail.suggest_uniform('C', 1.0, 10.0)\n",
    "  degree = trail.suggest_int('degree', 2, 10)\n",
    "  class_weight= trail.suggest_categorical('class_weight', ['balanced', None])\n",
    "  model = SVC(kernel = kernel, C = C, degree = degree, class_weight= class_weight)\n",
    "  \n",
    "  #return - np.mean(cross_val_score(model, x, y, cv = 10, scoring = 'roc_auc', n_jobs = -1))\n",
    "  kf = StratifiedKFold(n_splits= 10)\n",
    "  mean_metric = []\n",
    "  for idx in kf.split(x, y):\n",
    "    train_idx, test_idx = idx[0], idx[1]\n",
    "    x_train = x.iloc[train_idx]\n",
    "    y_train = y[train_idx]\n",
    "    x_test = x.iloc[test_idx]\n",
    "    y_test = y[test_idx]\n",
    "    model.fit(x_train, y_train)\n",
    "    pred = model.predict(x_test)\n",
    "    result = accuracy_score(y_test, pred)\n",
    "    mean_metric.append(pred)\n",
    "    return -np.mean(mean_metric)"
   ]
  },
  {
   "cell_type": "code",
   "execution_count": 52,
   "metadata": {
    "ExecuteTime": {
     "end_time": "2021-08-22T06:47:33.644131Z",
     "start_time": "2021-08-22T06:47:31.213451Z"
    },
    "id": "aEXF1DuacYTW"
   },
   "outputs": [
    {
     "name": "stderr",
     "output_type": "stream",
     "text": [
      "\u001b[32m[I 2021-08-22 12:17:31,215]\u001b[0m A new study created in memory with name: no-name-7bfaa3a6-6b5f-49d7-8435-0302fe368880\u001b[0m\n",
      "\u001b[32m[I 2021-08-22 12:17:31,780]\u001b[0m Trial 0 finished with value: -1.0 and parameters: {'kernel': 'poly', 'C': 3.675934766696848, 'degree': 9, 'class_weight': None}. Best is trial 0 with value: -1.0.\u001b[0m\n",
      "\u001b[32m[I 2021-08-22 12:17:31,784]\u001b[0m Trial 1 finished with value: -1.0 and parameters: {'kernel': 'rbf', 'C': 9.408716030641681, 'degree': 5, 'class_weight': None}. Best is trial 0 with value: -1.0.\u001b[0m\n",
      "\u001b[32m[I 2021-08-22 12:17:32,663]\u001b[0m Trial 2 finished with value: -0.9333333333333333 and parameters: {'kernel': 'poly', 'C': 1.1445592190876739, 'degree': 10, 'class_weight': 'balanced'}. Best is trial 0 with value: -1.0.\u001b[0m\n",
      "\u001b[32m[I 2021-08-22 12:17:32,687]\u001b[0m Trial 3 finished with value: -1.0 and parameters: {'kernel': 'poly', 'C': 5.111687128986247, 'degree': 7, 'class_weight': None}. Best is trial 0 with value: -1.0.\u001b[0m\n",
      "\u001b[32m[I 2021-08-22 12:17:32,693]\u001b[0m Trial 4 finished with value: -1.0 and parameters: {'kernel': 'rbf', 'C': 5.073654770247947, 'degree': 8, 'class_weight': 'balanced'}. Best is trial 0 with value: -1.0.\u001b[0m\n",
      "\u001b[32m[I 2021-08-22 12:17:32,697]\u001b[0m Trial 5 finished with value: -1.0 and parameters: {'kernel': 'rbf', 'C': 5.5386042251987995, 'degree': 3, 'class_weight': None}. Best is trial 0 with value: -1.0.\u001b[0m\n",
      "\u001b[32m[I 2021-08-22 12:17:32,701]\u001b[0m Trial 6 finished with value: -1.0 and parameters: {'kernel': 'poly', 'C': 5.818809662495182, 'degree': 3, 'class_weight': None}. Best is trial 0 with value: -1.0.\u001b[0m\n",
      "\u001b[32m[I 2021-08-22 12:17:32,705]\u001b[0m Trial 7 finished with value: -1.0 and parameters: {'kernel': 'rbf', 'C': 7.32142922369215, 'degree': 7, 'class_weight': None}. Best is trial 0 with value: -1.0.\u001b[0m\n",
      "\u001b[32m[I 2021-08-22 12:17:32,710]\u001b[0m Trial 8 finished with value: -1.0 and parameters: {'kernel': 'poly', 'C': 5.143090394292359, 'degree': 2, 'class_weight': 'balanced'}. Best is trial 0 with value: -1.0.\u001b[0m\n",
      "\u001b[32m[I 2021-08-22 12:17:32,715]\u001b[0m Trial 9 finished with value: -1.0 and parameters: {'kernel': 'rbf', 'C': 4.4066568983304535, 'degree': 7, 'class_weight': 'balanced'}. Best is trial 0 with value: -1.0.\u001b[0m\n",
      "\u001b[32m[I 2021-08-22 12:17:33,608]\u001b[0m Trial 10 finished with value: -0.9333333333333333 and parameters: {'kernel': 'poly', 'C': 2.21781766224471, 'degree': 10, 'class_weight': None}. Best is trial 0 with value: -1.0.\u001b[0m\n",
      "\u001b[32m[I 2021-08-22 12:17:33,615]\u001b[0m Trial 11 finished with value: -1.0 and parameters: {'kernel': 'rbf', 'C': 9.593858347342108, 'degree': 5, 'class_weight': None}. Best is trial 0 with value: -1.0.\u001b[0m\n",
      "\u001b[32m[I 2021-08-22 12:17:33,624]\u001b[0m Trial 12 finished with value: -1.0 and parameters: {'kernel': 'poly', 'C': 9.708978644022375, 'degree': 5, 'class_weight': None}. Best is trial 0 with value: -1.0.\u001b[0m\n",
      "\u001b[32m[I 2021-08-22 12:17:33,634]\u001b[0m Trial 13 finished with value: -1.0 and parameters: {'kernel': 'rbf', 'C': 2.964206319021329, 'degree': 5, 'class_weight': None}. Best is trial 0 with value: -1.0.\u001b[0m\n",
      "\u001b[32m[I 2021-08-22 12:17:33,642]\u001b[0m Trial 14 finished with value: -1.0 and parameters: {'kernel': 'rbf', 'C': 7.014404621955491, 'degree': 9, 'class_weight': None}. Best is trial 0 with value: -1.0.\u001b[0m\n"
     ]
    }
   ],
   "source": [
    "optimization_function = partial(optimize_svc, x = x_train, y = y_train)\n",
    "study = optuna.create_study(direction= 'minimize')\n",
    "study.optimize(optimization_function, n_trials=15)"
   ]
  },
  {
   "cell_type": "markdown",
   "metadata": {
    "id": "FUjMUgwGc1jL"
   },
   "source": [
    "# Decision Tree Classifier"
   ]
  },
  {
   "cell_type": "code",
   "execution_count": 61,
   "metadata": {
    "ExecuteTime": {
     "end_time": "2021-08-22T06:50:26.288796Z",
     "start_time": "2021-08-22T06:50:26.285141Z"
    },
    "id": "-F8wMStfc6e1"
   },
   "outputs": [],
   "source": [
    "from sklearn.tree import DecisionTreeClassifier\n",
    "def optimize_dtc(trail, x, y):\n",
    "  criterion = trail.suggest_categorical('criterion', ['gini', 'entropy'])\n",
    "  splitter = trail.suggest_categorical('splitter', ['best', 'random'])\n",
    "  max_depth = trail.suggest_int('max_depth', 1, 80)\n",
    "  min_samples_split = trail.suggest_int('min_samples_split', 3, 10)\n",
    "  min_samples_leaf =  trail.suggest_int('min_samples_leaf', 3, 10)\n",
    "  ccp_alpha = trail.suggest_uniform('ccp_alpha', 0, 1.0)\n",
    "  #class_weight = trial.suggest_categorical('class_weight', ['balanced', None])\n",
    "  model = DecisionTreeClassifier(criterion = criterion,\n",
    "                                splitter = splitter,\n",
    "                                max_depth = max_depth,\n",
    "                                min_samples_leaf = min_samples_leaf,\n",
    "                                min_samples_split = min_samples_split,\n",
    "                                ccp_alpha = ccp_alpha)\n",
    "                                #class_weight = class_weight)\n",
    "\n",
    "  \n",
    "  #return - np.mean(cross_val_score(model, x, y, cv = 10, scoring = 'roc_auc', n_jobs = -1))\n",
    "  kf = StratifiedKFold(n_splits= 10)\n",
    "  mean_metric = []\n",
    "  for idx in kf.split(x, y):\n",
    "    train_idx, test_idx = idx[0], idx[1]\n",
    "    x_train = x.iloc[train_idx]\n",
    "    y_train = y[train_idx]\n",
    "    x_test = x.iloc[test_idx]\n",
    "    y_test = y[test_idx]\n",
    "    model.fit(x_train, y_train)\n",
    "    pred = model.predict(x_test)\n",
    "    result = accuracy_score(y_test, pred)\n",
    "    mean_metric.append(pred)\n",
    "    return -np.mean(mean_metric)"
   ]
  },
  {
   "cell_type": "code",
   "execution_count": 62,
   "metadata": {
    "ExecuteTime": {
     "end_time": "2021-08-22T06:50:28.290670Z",
     "start_time": "2021-08-22T06:50:28.192687Z"
    },
    "id": "iZ7tcFVjdrbV"
   },
   "outputs": [
    {
     "name": "stderr",
     "output_type": "stream",
     "text": [
      "\u001b[32m[I 2021-08-22 12:20:28,193]\u001b[0m A new study created in memory with name: no-name-8f384564-78d4-4c8c-83d0-cf344c0a9add\u001b[0m\n",
      "\u001b[32m[I 2021-08-22 12:20:28,197]\u001b[0m Trial 0 finished with value: -0.0 and parameters: {'criterion': 'entropy', 'splitter': 'random', 'max_depth': 60, 'min_samples_split': 5, 'min_samples_leaf': 5, 'ccp_alpha': 0.4523734691953033}. Best is trial 0 with value: -0.0.\u001b[0m\n",
      "\u001b[32m[I 2021-08-22 12:20:28,201]\u001b[0m Trial 1 finished with value: -0.0 and parameters: {'criterion': 'gini', 'splitter': 'best', 'max_depth': 46, 'min_samples_split': 4, 'min_samples_leaf': 5, 'ccp_alpha': 0.6936262272491126}. Best is trial 0 with value: -0.0.\u001b[0m\n",
      "\u001b[32m[I 2021-08-22 12:20:28,205]\u001b[0m Trial 2 finished with value: -0.6666666666666666 and parameters: {'criterion': 'entropy', 'splitter': 'random', 'max_depth': 17, 'min_samples_split': 6, 'min_samples_leaf': 9, 'ccp_alpha': 0.7480826241276173}. Best is trial 2 with value: -0.6666666666666666.\u001b[0m\n",
      "\u001b[32m[I 2021-08-22 12:20:28,209]\u001b[0m Trial 3 finished with value: -0.0 and parameters: {'criterion': 'gini', 'splitter': 'best', 'max_depth': 51, 'min_samples_split': 8, 'min_samples_leaf': 3, 'ccp_alpha': 0.4749241652727385}. Best is trial 2 with value: -0.6666666666666666.\u001b[0m\n",
      "\u001b[32m[I 2021-08-22 12:20:28,215]\u001b[0m Trial 4 finished with value: -0.0 and parameters: {'criterion': 'entropy', 'splitter': 'random', 'max_depth': 44, 'min_samples_split': 10, 'min_samples_leaf': 5, 'ccp_alpha': 0.9228999712249834}. Best is trial 2 with value: -0.6666666666666666.\u001b[0m\n",
      "\u001b[32m[I 2021-08-22 12:20:28,219]\u001b[0m Trial 5 finished with value: -0.0 and parameters: {'criterion': 'entropy', 'splitter': 'random', 'max_depth': 27, 'min_samples_split': 4, 'min_samples_leaf': 6, 'ccp_alpha': 0.9113038569586859}. Best is trial 2 with value: -0.6666666666666666.\u001b[0m\n",
      "\u001b[32m[I 2021-08-22 12:20:28,223]\u001b[0m Trial 6 finished with value: -0.0 and parameters: {'criterion': 'entropy', 'splitter': 'random', 'max_depth': 40, 'min_samples_split': 8, 'min_samples_leaf': 6, 'ccp_alpha': 0.9658918767753499}. Best is trial 2 with value: -0.6666666666666666.\u001b[0m\n",
      "\u001b[32m[I 2021-08-22 12:20:28,227]\u001b[0m Trial 7 finished with value: -0.0 and parameters: {'criterion': 'gini', 'splitter': 'random', 'max_depth': 6, 'min_samples_split': 7, 'min_samples_leaf': 8, 'ccp_alpha': 0.4483730647095461}. Best is trial 2 with value: -0.6666666666666666.\u001b[0m\n",
      "\u001b[32m[I 2021-08-22 12:20:28,232]\u001b[0m Trial 8 finished with value: -1.3333333333333333 and parameters: {'criterion': 'gini', 'splitter': 'random', 'max_depth': 77, 'min_samples_split': 5, 'min_samples_leaf': 7, 'ccp_alpha': 0.21233401918303585}. Best is trial 8 with value: -1.3333333333333333.\u001b[0m\n",
      "\u001b[32m[I 2021-08-22 12:20:28,236]\u001b[0m Trial 9 finished with value: -0.0 and parameters: {'criterion': 'gini', 'splitter': 'best', 'max_depth': 13, 'min_samples_split': 8, 'min_samples_leaf': 10, 'ccp_alpha': 0.5851910984159591}. Best is trial 8 with value: -1.3333333333333333.\u001b[0m\n",
      "\u001b[32m[I 2021-08-22 12:20:28,247]\u001b[0m Trial 10 finished with value: -1.0666666666666667 and parameters: {'criterion': 'gini', 'splitter': 'best', 'max_depth': 79, 'min_samples_split': 3, 'min_samples_leaf': 8, 'ccp_alpha': 0.08366421020407383}. Best is trial 8 with value: -1.3333333333333333.\u001b[0m\n",
      "\u001b[32m[I 2021-08-22 12:20:28,257]\u001b[0m Trial 11 finished with value: -1.0 and parameters: {'criterion': 'gini', 'splitter': 'best', 'max_depth': 80, 'min_samples_split': 3, 'min_samples_leaf': 8, 'ccp_alpha': 0.08780538978226089}. Best is trial 8 with value: -1.3333333333333333.\u001b[0m\n",
      "\u001b[32m[I 2021-08-22 12:20:28,267]\u001b[0m Trial 12 finished with value: -1.0666666666666667 and parameters: {'criterion': 'gini', 'splitter': 'best', 'max_depth': 79, 'min_samples_split': 3, 'min_samples_leaf': 8, 'ccp_alpha': 0.06977950852448106}. Best is trial 8 with value: -1.3333333333333333.\u001b[0m\n",
      "\u001b[32m[I 2021-08-22 12:20:28,277]\u001b[0m Trial 13 finished with value: -1.0666666666666667 and parameters: {'criterion': 'gini', 'splitter': 'best', 'max_depth': 67, 'min_samples_split': 5, 'min_samples_leaf': 7, 'ccp_alpha': 0.23625565304791912}. Best is trial 8 with value: -1.3333333333333333.\u001b[0m\n",
      "\u001b[32m[I 2021-08-22 12:20:28,289]\u001b[0m Trial 14 finished with value: -1.0 and parameters: {'criterion': 'gini', 'splitter': 'random', 'max_depth': 68, 'min_samples_split': 4, 'min_samples_leaf': 7, 'ccp_alpha': 0.2485643899738516}. Best is trial 8 with value: -1.3333333333333333.\u001b[0m\n"
     ]
    }
   ],
   "source": [
    "optimization_function = partial(optimize_dtc, x = x_train, y = y_train)\n",
    "study = optuna.create_study(direction= 'minimize')\n",
    "study.optimize(optimization_function, n_trials=15)"
   ]
  }
 ],
 "metadata": {
  "colab": {
   "collapsed_sections": [],
   "name": "Optimization optuna .ipynb",
   "provenance": []
  },
  "kernelspec": {
   "display_name": "Python 3",
   "language": "python",
   "name": "python3"
  },
  "language_info": {
   "codemirror_mode": {
    "name": "ipython",
    "version": 3
   },
   "file_extension": ".py",
   "mimetype": "text/x-python",
   "name": "python",
   "nbconvert_exporter": "python",
   "pygments_lexer": "ipython3",
   "version": "3.8.8"
  }
 },
 "nbformat": 4,
 "nbformat_minor": 1
}
