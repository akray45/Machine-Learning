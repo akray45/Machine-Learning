{
  "nbformat": 4,
  "nbformat_minor": 0,
  "metadata": {
    "colab": {
      "name": "Optimization using hyperopt.ipynb",
      "provenance": [],
      "collapsed_sections": []
    },
    "kernelspec": {
      "name": "python3",
      "display_name": "Python 3"
    },
    "language_info": {
      "name": "python"
    }
  },
  "cells": [
    {
      "cell_type": "markdown",
      "metadata": {
        "id": "YtcVQy1mgmnp"
      },
      "source": [
        "# Optimization using hyperopt"
      ]
    },
    {
      "cell_type": "markdown",
      "metadata": {
        "id": "BbAS-2Bbgref"
      },
      "source": [
        "# Ensemble Regressor"
      ]
    },
    {
      "cell_type": "code",
      "metadata": {
        "id": "pNABMAajmMk_"
      },
      "source": [
        "import pandas as pd\n",
        "import numpy as np\n",
        "from mypipes_trees import *"
      ],
      "execution_count": null,
      "outputs": []
    },
    {
      "cell_type": "code",
      "metadata": {
        "id": "pbGRCXiDmzTr"
      },
      "source": [
        "# in_train=pd.read_csv('/content/insurance.csv')\n",
        "# cat_vars=['sex','region','smoker']\n",
        "# num_vars=['age','bmi','children']\n",
        "# p1=pdPipeline([\n",
        "#     ('cat_select',VarSelector(cat_vars)),\n",
        "#     ('missing_trt',DataFrameImputer()),\n",
        "#     ('create_dummies',get_dummies_Pipe(15))\n",
        "# ])\n",
        "\n",
        "# p2=pdPipeline([\n",
        "#     ('num_select',VarSelector(num_vars)),\n",
        "#     ('missing_trt',DataFrameImputer())\n",
        "# ])\n",
        "\n",
        "# data_pipe=FeatureUnion([\n",
        "#     ('cat_pipe',p1),\n",
        "#     ('num_pipe',p2)\n",
        "# ])\n",
        "# x_train=pd.DataFrame(data=data_pipe.fit_transform(in_train),\n",
        "#                      columns=data_pipe.get_feature_names())\n",
        "# y_train=in_train['charges']\n"
      ],
      "execution_count": null,
      "outputs": []
    },
    {
      "cell_type": "code",
      "metadata": {
        "colab": {
          "base_uri": "https://localhost:8080/"
        },
        "id": "7Q4WsIBMgex7",
        "outputId": "a27bddcf-16c9-43e2-c5cd-8f08ba10d382"
      },
      "source": [
        "!pip install hyperopt\n",
        "from hyperopt import hp, fmin, tpe, Trials\n",
        "from hyperopt.pyll.base import scope\n",
        "from functools import partial\n",
        "from sklearn.ensemble import RandomForestRegressor, GradientBoostingRegressor, AdaBoostRegressor, ExtraTreesRegressor\n",
        "from sklearn.model_selection import cross_val_score"
      ],
      "execution_count": null,
      "outputs": [
        {
          "output_type": "stream",
          "text": [
            "Requirement already satisfied: hyperopt in /usr/local/lib/python3.7/dist-packages (0.1.2)\n",
            "Requirement already satisfied: future in /usr/local/lib/python3.7/dist-packages (from hyperopt) (0.16.0)\n",
            "Requirement already satisfied: pymongo in /usr/local/lib/python3.7/dist-packages (from hyperopt) (3.12.0)\n",
            "Requirement already satisfied: numpy in /usr/local/lib/python3.7/dist-packages (from hyperopt) (1.19.5)\n",
            "Requirement already satisfied: six in /usr/local/lib/python3.7/dist-packages (from hyperopt) (1.15.0)\n",
            "Requirement already satisfied: networkx in /usr/local/lib/python3.7/dist-packages (from hyperopt) (2.6.2)\n",
            "Requirement already satisfied: scipy in /usr/local/lib/python3.7/dist-packages (from hyperopt) (1.4.1)\n",
            "Requirement already satisfied: tqdm in /usr/local/lib/python3.7/dist-packages (from hyperopt) (4.62.0)\n"
          ],
          "name": "stdout"
        }
      ]
    },
    {
      "cell_type": "code",
      "metadata": {
        "id": "VDmBg74khQMs"
      },
      "source": [
        "def optimize_ensemble(param, x, y):\n",
        "  model = RandomForestRegressor(**param)\n",
        "  return -np.mean(cross_val_score(model, x, y, cv = 10, n_jobs = -1, scoring = 'neg_mean_absolute_error'))\n"
      ],
      "execution_count": null,
      "outputs": []
    },
    {
      "cell_type": "code",
      "metadata": {
        "id": "TcZzYcn0hjvS"
      },
      "source": [
        "param_space = {\n",
        "\"max_depth\": scope.int(hp.quniform(\"max_depth\", 3, 15, 1)),\n",
        "\"n_estimators\": scope.int(hp.quniform(\"n_estimators\", 100, 1500, 1)),\n",
        "'min_samples_split': scope.int(hp.quniform('min_samples_split', 1, 10, 1)),\n",
        "'min_samples_leaf': scope.int(hp.quniform('min_samples_leaf', 1, 10, 1)),\n",
        "\"max_features\": hp.uniform(\"max_features\", 0.01, 1),\n",
        "\"ccp_alpha\": hp.uniform(\"ccp_alpha\", 0.01, 1),\n",
        "'bootstrap': hp.choice('bootstrap', [True, False])\n",
        "}"
      ],
      "execution_count": null,
      "outputs": []
    },
    {
      "cell_type": "code",
      "metadata": {
        "colab": {
          "base_uri": "https://localhost:8080/"
        },
        "id": "43juUkoyhYYQ",
        "outputId": "bf0d03ac-45be-4c4b-cf79-ef88c2aad2a7"
      },
      "source": [
        "optimization_function = partial(\n",
        "optimize_ensemble,\n",
        "x=x_train,\n",
        "y=y_train\n",
        ")\n",
        "# initialize trials to keep logging information\n",
        "trials = Trials()\n",
        "# run hyperopt\n",
        "hopt = fmin(\n",
        "fn=optimization_function,\n",
        "space=param_space,\n",
        "algo=tpe.suggest,\n",
        "max_evals=15,\n",
        "trials=trials\n",
        ")\n",
        "print(hopt)"
      ],
      "execution_count": null,
      "outputs": [
        {
          "output_type": "stream",
          "text": [
            "100%|██████████| 15/15 [03:14<00:00, 12.94s/it, best loss: 2487.3314403926843]\n",
            "{'bootstrap': 0, 'ccp_alpha': 0.01636239429699251, 'max_depth': 7.0, 'max_features': 0.8513851222127036, 'min_samples_leaf': 9.0, 'min_samples_split': 10.0, 'n_estimators': 212.0}\n"
          ],
          "name": "stdout"
        }
      ]
    },
    {
      "cell_type": "markdown",
      "metadata": {
        "id": "uSBsrhZrplX7"
      },
      "source": [
        "# Linear Models"
      ]
    },
    {
      "cell_type": "code",
      "metadata": {
        "id": "QLPk9M2kprdv"
      },
      "source": [
        "from sklearn.linear_model import Lasso\n",
        "def optimize_linear(param, x, y):\n",
        "  model = Lasso(**param)\n",
        "  return -np.mean(cross_val_score(model, x, y, cv = 10, n_jobs = -1, scoring = 'neg_mean_absolute_error'))\n"
      ],
      "execution_count": null,
      "outputs": []
    },
    {
      "cell_type": "code",
      "metadata": {
        "id": "RkRNVrOSqBqt"
      },
      "source": [
        "param_space = {\n",
        "\"alpha\": hp.uniform(\"alpha\", 0.01, 100),\n",
        "'normalize': hp.choice('normalize', [True, False]),\n",
        "'fit_intercept': hp.choice('fit_intercept', [True, False])\n",
        "}"
      ],
      "execution_count": null,
      "outputs": []
    },
    {
      "cell_type": "code",
      "metadata": {
        "colab": {
          "base_uri": "https://localhost:8080/"
        },
        "id": "7uDKN-jrrCVJ",
        "outputId": "b950795a-f26b-4727-dc20-58b5cb5a7da6"
      },
      "source": [
        "optimization_function = partial(\n",
        "optimize_linear,\n",
        "x=x_train,\n",
        "y=y_train\n",
        ")\n",
        "# initialize trials to keep logging information\n",
        "trials = Trials()\n",
        "# run hyperopt\n",
        "hopt = fmin(\n",
        "fn=optimization_function,\n",
        "space=param_space,\n",
        "algo=tpe.suggest,\n",
        "max_evals=15,\n",
        "trials=trials\n",
        ")\n",
        "print(hopt)"
      ],
      "execution_count": null,
      "outputs": [
        {
          "output_type": "stream",
          "text": [
            "100%|██████████| 15/15 [00:02<00:00,  6.93it/s, best loss: 4207.828696547045]\n",
            "{'alpha': 23.9372676294255, 'fit_intercept': 0, 'normalize': 1}\n"
          ],
          "name": "stdout"
        }
      ]
    },
    {
      "cell_type": "markdown",
      "metadata": {
        "id": "ziYkIbplrTAa"
      },
      "source": [
        "# KNN Regressor"
      ]
    },
    {
      "cell_type": "code",
      "metadata": {
        "id": "mrTEhtSHrXm-"
      },
      "source": [
        "from sklearn.neighbors import KNeighborsRegressor\n",
        "def optimize_knn(param, x, y):\n",
        "  model = KNeighborsRegressor(**param)\n",
        "  return -np.mean(cross_val_score(model, x, y, cv = 10, n_jobs = -1, scoring = 'neg_mean_absolute_error'))\n"
      ],
      "execution_count": null,
      "outputs": []
    },
    {
      "cell_type": "code",
      "metadata": {
        "id": "y-jlfVn0r2sd"
      },
      "source": [
        "param_space = {\n",
        "\"n_neighbors\": scope.int(hp.quniform(\"n_neighbors\", 3, 100, 2)),\n",
        "'p': hp.choice('p', [2, 3]),\n",
        "}"
      ],
      "execution_count": null,
      "outputs": []
    },
    {
      "cell_type": "code",
      "metadata": {
        "colab": {
          "base_uri": "https://localhost:8080/"
        },
        "id": "0rmf5gR1sVt3",
        "outputId": "08eb5e0e-1e8e-41c4-b80c-64360e96b570"
      },
      "source": [
        "optimization_function = partial(\n",
        "optimize_knn,\n",
        "x=x_train,\n",
        "y=y_train\n",
        ")\n",
        "# initialize trials to keep logging information\n",
        "trials = Trials()\n",
        "# run hyperopt\n",
        "hopt = fmin(\n",
        "fn=optimization_function,\n",
        "space=param_space,\n",
        "algo=tpe.suggest,\n",
        "max_evals=15,\n",
        "trials=trials\n",
        ")\n",
        "print(hopt)"
      ],
      "execution_count": null,
      "outputs": [
        {
          "output_type": "stream",
          "text": [
            "100%|██████████| 15/15 [00:03<00:00,  4.62it/s, best loss: 8378.389123738776]\n",
            "{'n_neighbors': 8.0, 'p': 1}\n"
          ],
          "name": "stdout"
        }
      ]
    },
    {
      "cell_type": "markdown",
      "metadata": {
        "id": "UysLSOSZtIi9"
      },
      "source": [
        "# SVR"
      ]
    },
    {
      "cell_type": "code",
      "metadata": {
        "id": "a3N4EbLxtL4w"
      },
      "source": [
        "from sklearn.svm import SVR\n",
        "def optimize_svr(param, x, y):\n",
        "  model = SVR(**param)\n",
        "  return -np.mean(cross_val_score(model, x, y, cv = 10, n_jobs = -1, scoring = 'neg_mean_absolute_error'))\n"
      ],
      "execution_count": null,
      "outputs": []
    },
    {
      "cell_type": "code",
      "metadata": {
        "id": "rdISX2DTug8z"
      },
      "source": [
        "param_space = {\n",
        "\"epsilon\": hp.uniform(\"epsilon\", 0.01, 2),\n",
        "'kernel': hp.choice('kernel', ['rbf', 'poly']),\n",
        "'degree': scope.int(hp.quniform('degree', 3, 10, 1)),\n",
        "\"C\": hp.uniform(\"C\", 0.001, 1)\n",
        "}"
      ],
      "execution_count": null,
      "outputs": []
    },
    {
      "cell_type": "code",
      "metadata": {
        "colab": {
          "base_uri": "https://localhost:8080/"
        },
        "id": "SpVFlnkDvyyo",
        "outputId": "25524f60-c357-4d7b-eabb-d7c247af49b5"
      },
      "source": [
        "optimization_function = partial(\n",
        "optimize_svr,\n",
        "x=x_train,\n",
        "y=y_train\n",
        ")\n",
        "# initialize trials to keep logging information\n",
        "trials = Trials()\n",
        "# run hyperopt\n",
        "hopt = fmin(\n",
        "fn=optimization_function,\n",
        "space=param_space,\n",
        "algo=tpe.suggest,\n",
        "max_evals=15,\n",
        "trials=trials\n",
        ")\n",
        "print(hopt)"
      ],
      "execution_count": null,
      "outputs": [
        {
          "output_type": "stream",
          "text": [
            "100%|██████████| 15/15 [00:12<00:00,  1.24it/s, best loss: 7275.674405431926]\n",
            "{'C': 0.9751350566630774, 'degree': 7.0, 'epsilon': 0.407010017688621, 'kernel': 1}\n"
          ],
          "name": "stdout"
        }
      ]
    },
    {
      "cell_type": "markdown",
      "metadata": {
        "id": "Sci9R-bzwJ6O"
      },
      "source": [
        "# Decision Tree"
      ]
    },
    {
      "cell_type": "code",
      "metadata": {
        "id": "DKuGpW3GwQSA"
      },
      "source": [
        "from sklearn.tree import DecisionTreeRegressor\n",
        "def optimize_dtr(param, x, y):\n",
        "  model = DecisionTreeRegressor(**param)\n",
        "  return -np.mean(cross_val_score(model, x, y, cv = 10, n_jobs = -1, scoring = 'neg_mean_absolute_error'))\n"
      ],
      "execution_count": null,
      "outputs": []
    },
    {
      "cell_type": "code",
      "metadata": {
        "id": "Qmdv6p4pwXAl"
      },
      "source": [
        "param_space = {\n",
        "\"max_depth\": scope.int(hp.quniform(\"max_depth\", 3, 15, 1)),\n",
        "'min_samples_split': scope.int(hp.quniform('min_samples_split', 1, 10, 1)),\n",
        "'min_samples_leaf': scope.int(hp.quniform('min_samples_leaf', 1, 10, 1)),\n",
        "\"ccp_alpha\": hp.uniform(\"ccp_alpha\", 0.01, 1),\n",
        "'criterion': hp.choice('criterion', ['mse', 'friedman_mse']),\n",
        "'splitter': hp.choice('splitter', ['best', 'random'])\n",
        "}"
      ],
      "execution_count": null,
      "outputs": []
    },
    {
      "cell_type": "code",
      "metadata": {
        "colab": {
          "base_uri": "https://localhost:8080/"
        },
        "id": "EhCLOZiGxxy6",
        "outputId": "471c59b9-1767-4c52-d5a4-0c78d054059e"
      },
      "source": [
        "optimization_function = partial(\n",
        "optimize_dtr,\n",
        "x=x_train,\n",
        "y=y_train\n",
        ")\n",
        "# initialize trials to keep logging information\n",
        "trials = Trials()\n",
        "# run hyperopt\n",
        "hopt = fmin(\n",
        "fn=optimization_function,\n",
        "space=param_space,\n",
        "algo=tpe.suggest,\n",
        "max_evals=15,\n",
        "trials=trials\n",
        ")\n",
        "print(hopt)"
      ],
      "execution_count": null,
      "outputs": [
        {
          "output_type": "stream",
          "text": [
            "100%|██████████| 15/15 [00:02<00:00,  6.51it/s, best loss: 2581.233894787322]\n",
            "{'ccp_alpha': 0.6075098245079362, 'criterion': 0, 'max_depth': 5.0, 'min_samples_leaf': 10.0, 'min_samples_split': 9.0, 'splitter': 0}\n"
          ],
          "name": "stdout"
        }
      ]
    }
  ]
}