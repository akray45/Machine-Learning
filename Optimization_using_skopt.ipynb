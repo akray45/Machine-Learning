{
  "nbformat": 4,
  "nbformat_minor": 0,
  "metadata": {
    "colab": {
      "name": "Optimization using skopt.ipynb",
      "provenance": [],
      "collapsed_sections": []
    },
    "kernelspec": {
      "name": "python3",
      "display_name": "Python 3"
    },
    "language_info": {
      "name": "python"
    }
  },
  "cells": [
    {
      "cell_type": "markdown",
      "metadata": {
        "id": "RwVcV_g_4qeZ"
      },
      "source": [
        "# Optimization using skopt "
      ]
    },
    {
      "cell_type": "markdown",
      "metadata": {
        "id": "yjiHPpF_4wbW"
      },
      "source": [
        "# Ensemble Regressor(skopt)\n",
        "\n"
      ]
    },
    {
      "cell_type": "code",
      "metadata": {
        "id": "ZE1PqIpsI2Fr"
      },
      "source": [
        "import pandas as pd\n",
        "import numpy as np"
      ],
      "execution_count": null,
      "outputs": []
    },
    {
      "cell_type": "code",
      "metadata": {
        "colab": {
          "base_uri": "https://localhost:8080/"
        },
        "id": "CSVW4Adv4v2G",
        "outputId": "bc1258f0-fed5-4ec7-80d4-f54593ddfab1"
      },
      "source": [
        "!pip install scikit-optimize\n",
        "from skopt import gp_minimize\n",
        "from skopt import space\n",
        "from functools import partial\n",
        "from sklearn.ensemble import RandomForestRegressor, GradientBoostingRegressor, AdaBoostRegressor, ExtraTreesRegressor\n",
        "from sklearn.model_selection import cross_val_score"
      ],
      "execution_count": null,
      "outputs": [
        {
          "output_type": "stream",
          "text": [
            "Requirement already satisfied: scikit-optimize in /usr/local/lib/python3.7/dist-packages (0.8.1)\n",
            "Requirement already satisfied: scipy>=0.19.1 in /usr/local/lib/python3.7/dist-packages (from scikit-optimize) (1.4.1)\n",
            "Requirement already satisfied: pyaml>=16.9 in /usr/local/lib/python3.7/dist-packages (from scikit-optimize) (21.8.3)\n",
            "Requirement already satisfied: joblib>=0.11 in /usr/local/lib/python3.7/dist-packages (from scikit-optimize) (1.0.1)\n",
            "Requirement already satisfied: numpy>=1.13.3 in /usr/local/lib/python3.7/dist-packages (from scikit-optimize) (1.19.5)\n",
            "Requirement already satisfied: scikit-learn>=0.20.0 in /usr/local/lib/python3.7/dist-packages (from scikit-optimize) (0.22.2.post1)\n",
            "Requirement already satisfied: PyYAML in /usr/local/lib/python3.7/dist-packages (from pyaml>=16.9->scikit-optimize) (3.13)\n"
          ],
          "name": "stdout"
        }
      ]
    },
    {
      "cell_type": "code",
      "metadata": {
        "id": "oQF5gldx5qu7"
      },
      "source": [
        "def optimize_ensemble(param, param_names, x, y):\n",
        "  param = dict(zip(param_names, param))\n",
        "  model = RandomForestRegressor(**param)\n",
        "  return -np.mean(cross_val_score(model, x, y, cv = 10, n_jobs = -1, scoring = 'neg_mean_absolute_error'))\n"
      ],
      "execution_count": null,
      "outputs": []
    },
    {
      "cell_type": "code",
      "metadata": {
        "id": "zGRH-uMQ7gYU"
      },
      "source": [
        "param_names = [\n",
        "\"max_depth\",\n",
        "\"n_estimators\",\n",
        "'min_samples_split',\n",
        "'min_samples_leaf',\n",
        "\"max_features\",\n",
        "'ccp_alpha',\n",
        "'bootstrap'\n",
        "]\n",
        "\n",
        "param_space = [\n",
        "space.Integer(3, 15, name=\"max_depth\"),\n",
        "space.Integer(100, 1500, name=\"n_estimators\"),\n",
        "space.Integer(1, 10, name='min_samples_split'),\n",
        "space.Integer(1, 10, name='min_samples_leaf'),\n",
        "space.Real(0.01, 1, prior=\"uniform\", name=\"max_features\"),\n",
        "space.Real(0.01, 1, prior=\"uniform\", name=\"ccp_alpha\"),\n",
        "space.Categorical([True, False], name = 'bootstrap')\n",
        "]\n"
      ],
      "execution_count": null,
      "outputs": []
    },
    {
      "cell_type": "code",
      "metadata": {
        "colab": {
          "base_uri": "https://localhost:8080/"
        },
        "id": "IipuXRNx8HjU",
        "outputId": "44c7e5ba-aaa3-4c54-baf0-d87328c24262"
      },
      "source": [
        "optimization_function = partial(\n",
        "optimize_ensemble,\n",
        "param_names=param_names,\n",
        "x=x_train,\n",
        "y=y_train\n",
        ")\n",
        "\n",
        "result = gp_minimize(\n",
        "optimization_function,\n",
        "dimensions=param_space,\n",
        "n_calls=30,\n",
        "n_random_starts=20,\n",
        "verbose=10\n",
        ")\n",
        "\n",
        "best_params = dict(\n",
        "zip(\n",
        "param_names,\n",
        "result.x\n",
        ")\n",
        ")\n",
        "print(best_params)"
      ],
      "execution_count": null,
      "outputs": [
        {
          "output_type": "stream",
          "text": [
            "Iteration No: 1 started. Evaluating function at random point.\n",
            "Iteration No: 1 ended. Evaluation done at random point.\n",
            "Time taken: 3.3689\n",
            "Function value obtained: 3773.2624\n",
            "Current minimum: 3773.2624\n",
            "Iteration No: 2 started. Evaluating function at random point.\n",
            "Iteration No: 2 ended. Evaluation done at random point.\n",
            "Time taken: 6.8884\n",
            "Function value obtained: 2963.3407\n",
            "Current minimum: 2963.3407\n",
            "Iteration No: 3 started. Evaluating function at random point.\n",
            "Iteration No: 3 ended. Evaluation done at random point.\n",
            "Time taken: 26.1776\n",
            "Function value obtained: 2524.0377\n",
            "Current minimum: 2524.0377\n",
            "Iteration No: 4 started. Evaluating function at random point.\n",
            "Iteration No: 4 ended. Evaluation done at random point.\n",
            "Time taken: 11.7575\n",
            "Function value obtained: 4949.1737\n",
            "Current minimum: 2524.0377\n",
            "Iteration No: 5 started. Evaluating function at random point.\n",
            "Iteration No: 5 ended. Evaluation done at random point.\n",
            "Time taken: 17.3565\n",
            "Function value obtained: 2625.9587\n",
            "Current minimum: 2524.0377\n",
            "Iteration No: 6 started. Evaluating function at random point.\n",
            "Iteration No: 6 ended. Evaluation done at random point.\n",
            "Time taken: 6.5098\n",
            "Function value obtained: 2493.7741\n",
            "Current minimum: 2493.7741\n",
            "Iteration No: 7 started. Evaluating function at random point.\n",
            "Iteration No: 7 ended. Evaluation done at random point.\n",
            "Time taken: 21.2806\n",
            "Function value obtained: 2511.0493\n",
            "Current minimum: 2493.7741\n",
            "Iteration No: 8 started. Evaluating function at random point.\n",
            "Iteration No: 8 ended. Evaluation done at random point.\n",
            "Time taken: 7.4995\n",
            "Function value obtained: 2541.1945\n",
            "Current minimum: 2493.7741\n",
            "Iteration No: 9 started. Evaluating function at random point.\n",
            "Iteration No: 9 ended. Evaluation done at random point.\n",
            "Time taken: 7.5225\n",
            "Function value obtained: 6556.4215\n",
            "Current minimum: 2493.7741\n",
            "Iteration No: 10 started. Evaluating function at random point.\n",
            "Iteration No: 10 ended. Evaluation done at random point.\n",
            "Time taken: 16.4211\n",
            "Function value obtained: 2623.3514\n",
            "Current minimum: 2493.7741\n",
            "Iteration No: 11 started. Evaluating function at random point.\n",
            "Iteration No: 11 ended. Evaluation done at random point.\n",
            "Time taken: 5.6442\n",
            "Function value obtained: 5262.4758\n",
            "Current minimum: 2493.7741\n",
            "Iteration No: 12 started. Evaluating function at random point.\n",
            "Iteration No: 12 ended. Evaluation done at random point.\n",
            "Time taken: 21.4533\n",
            "Function value obtained: 2576.9935\n",
            "Current minimum: 2493.7741\n",
            "Iteration No: 13 started. Evaluating function at random point.\n",
            "Iteration No: 13 ended. Evaluation done at random point.\n",
            "Time taken: 19.7645\n",
            "Function value obtained: 2480.8389\n",
            "Current minimum: 2480.8389\n",
            "Iteration No: 14 started. Evaluating function at random point.\n",
            "Iteration No: 14 ended. Evaluation done at random point.\n",
            "Time taken: 10.6911\n",
            "Function value obtained: 3393.1325\n",
            "Current minimum: 2480.8389\n",
            "Iteration No: 15 started. Evaluating function at random point.\n",
            "Iteration No: 15 ended. Evaluation done at random point.\n",
            "Time taken: 27.9926\n",
            "Function value obtained: 2528.8111\n",
            "Current minimum: 2480.8389\n",
            "Iteration No: 16 started. Evaluating function at random point.\n",
            "Iteration No: 16 ended. Evaluation done at random point.\n",
            "Time taken: 5.9361\n",
            "Function value obtained: 2689.2733\n",
            "Current minimum: 2480.8389\n",
            "Iteration No: 17 started. Evaluating function at random point.\n",
            "Iteration No: 17 ended. Evaluation done at random point.\n",
            "Time taken: 6.2215\n",
            "Function value obtained: 2495.9773\n",
            "Current minimum: 2480.8389\n",
            "Iteration No: 18 started. Evaluating function at random point.\n",
            "Iteration No: 18 ended. Evaluation done at random point.\n",
            "Time taken: 13.6175\n",
            "Function value obtained: 2887.7773\n",
            "Current minimum: 2480.8389\n",
            "Iteration No: 19 started. Evaluating function at random point.\n",
            "Iteration No: 19 ended. Evaluation done at random point.\n",
            "Time taken: 21.4666\n",
            "Function value obtained: 2498.9967\n",
            "Current minimum: 2480.8389\n",
            "Iteration No: 20 started. Evaluating function at random point.\n",
            "Iteration No: 20 ended. Evaluation done at random point.\n",
            "Time taken: 15.9493\n",
            "Function value obtained: 3097.2808\n",
            "Current minimum: 2480.8389\n",
            "Iteration No: 21 started. Searching for the next optimal point.\n",
            "Iteration No: 21 ended. Search finished for the next optimal point.\n",
            "Time taken: 25.1454\n",
            "Function value obtained: 2511.0428\n",
            "Current minimum: 2480.8389\n",
            "Iteration No: 22 started. Searching for the next optimal point.\n",
            "Iteration No: 22 ended. Search finished for the next optimal point.\n",
            "Time taken: 11.5377\n",
            "Function value obtained: 2497.8997\n",
            "Current minimum: 2480.8389\n",
            "Iteration No: 23 started. Searching for the next optimal point.\n",
            "Iteration No: 23 ended. Search finished for the next optimal point.\n",
            "Time taken: 19.0496\n",
            "Function value obtained: 2484.9794\n",
            "Current minimum: 2480.8389\n",
            "Iteration No: 24 started. Searching for the next optimal point.\n",
            "Iteration No: 24 ended. Search finished for the next optimal point.\n",
            "Time taken: 19.7966\n",
            "Function value obtained: 2500.8989\n",
            "Current minimum: 2480.8389\n",
            "Iteration No: 25 started. Searching for the next optimal point.\n",
            "Iteration No: 25 ended. Search finished for the next optimal point.\n",
            "Time taken: 9.5121\n",
            "Function value obtained: 2554.9161\n",
            "Current minimum: 2480.8389\n",
            "Iteration No: 26 started. Searching for the next optimal point.\n",
            "Iteration No: 26 ended. Search finished for the next optimal point.\n",
            "Time taken: 23.9108\n",
            "Function value obtained: 2513.6307\n",
            "Current minimum: 2480.8389\n",
            "Iteration No: 27 started. Searching for the next optimal point.\n",
            "Iteration No: 27 ended. Search finished for the next optimal point.\n",
            "Time taken: 7.5757\n",
            "Function value obtained: 2518.9511\n",
            "Current minimum: 2480.8389\n",
            "Iteration No: 28 started. Searching for the next optimal point.\n",
            "Iteration No: 28 ended. Search finished for the next optimal point.\n",
            "Time taken: 16.2344\n",
            "Function value obtained: 2509.6033\n",
            "Current minimum: 2480.8389\n",
            "Iteration No: 29 started. Searching for the next optimal point.\n",
            "Iteration No: 29 ended. Search finished for the next optimal point.\n",
            "Time taken: 19.3463\n",
            "Function value obtained: 2513.6676\n",
            "Current minimum: 2480.8389\n",
            "Iteration No: 30 started. Searching for the next optimal point.\n",
            "Iteration No: 30 ended. Search finished for the next optimal point.\n",
            "Time taken: 28.6981\n",
            "Function value obtained: 2555.3028\n",
            "Current minimum: 2480.8389\n",
            "{'max_depth': 6, 'n_estimators': 1172, 'min_samples_split': 7, 'min_samples_leaf': 5, 'max_features': 0.8697683506723257, 'ccp_alpha': 0.708373581494001, 'bootstrap': False}\n"
          ],
          "name": "stdout"
        }
      ]
    },
    {
      "cell_type": "markdown",
      "metadata": {
        "id": "GOKW9r3iRysW"
      },
      "source": [
        "# Linear Models (skopt)"
      ]
    },
    {
      "cell_type": "code",
      "metadata": {
        "id": "ns9GIGNzR4WI"
      },
      "source": [
        "from sklearn.linear_model import Lasso\n",
        "def optimize_linear(param, param_names, x, y):\n",
        "  param = dict(zip(param_names, param))\n",
        "  model = Lasso(**param)\n",
        "  return -np.mean(cross_val_score(model, x, y, cv = 10, n_jobs = -1, scoring = 'neg_mean_absolute_error'))\n"
      ],
      "execution_count": null,
      "outputs": []
    },
    {
      "cell_type": "code",
      "metadata": {
        "id": "UNBdbhd6SbIL"
      },
      "source": [
        "param_names = [\n",
        "'alpha', \n",
        "'fit_intercept',\n",
        "'normalize'\n",
        "]\n",
        "\n",
        "param_space = [\n",
        "space.Real(0.01, 100, prior=\"uniform\", name=\"alpha\"),\n",
        "space.Categorical([True, False], name = 'fit_intercept'),\n",
        "space.Categorical([True, False], name = 'normalize')\n",
        "]\n"
      ],
      "execution_count": null,
      "outputs": []
    },
    {
      "cell_type": "code",
      "metadata": {
        "colab": {
          "base_uri": "https://localhost:8080/"
        },
        "id": "mcTNZ1oWSRey",
        "outputId": "a04fced2-bbb8-4d7e-9344-2eef1a60f9ac"
      },
      "source": [
        "optimization_function = partial(\n",
        "optimize_linear,\n",
        "param_names=param_names,\n",
        "x=x_train,\n",
        "y=y_train\n",
        ")\n",
        "\n",
        "result = gp_minimize(\n",
        "optimization_function,\n",
        "dimensions=param_space,\n",
        "n_calls=15,\n",
        "n_random_starts=10,\n",
        "verbose=10\n",
        ")\n",
        "\n",
        "best_params = dict(\n",
        "zip(\n",
        "param_names,\n",
        "result.x\n",
        ")\n",
        ")\n",
        "print(best_params)"
      ],
      "execution_count": null,
      "outputs": [
        {
          "output_type": "stream",
          "text": [
            "Iteration No: 1 started. Evaluating function at random point.\n",
            "Iteration No: 1 ended. Evaluation done at random point.\n",
            "Time taken: 0.0632\n",
            "Function value obtained: 4802.7715\n",
            "Current minimum: 4802.7715\n",
            "Iteration No: 2 started. Evaluating function at random point.\n",
            "Iteration No: 2 ended. Evaluation done at random point.\n",
            "Time taken: 0.0564\n",
            "Function value obtained: 5185.3528\n",
            "Current minimum: 4802.7715\n",
            "Iteration No: 3 started. Evaluating function at random point.\n",
            "Iteration No: 3 ended. Evaluation done at random point.\n",
            "Time taken: 0.0664\n",
            "Function value obtained: 4804.0252\n",
            "Current minimum: 4802.7715\n",
            "Iteration No: 4 started. Evaluating function at random point.\n",
            "Iteration No: 4 ended. Evaluation done at random point.\n",
            "Time taken: 0.0584\n",
            "Function value obtained: 4201.4513\n",
            "Current minimum: 4201.4513\n",
            "Iteration No: 5 started. Evaluating function at random point.\n",
            "Iteration No: 5 ended. Evaluation done at random point.\n",
            "Time taken: 0.0576\n",
            "Function value obtained: 4801.2650\n",
            "Current minimum: 4201.4513\n",
            "Iteration No: 6 started. Evaluating function at random point.\n",
            "Iteration No: 6 ended. Evaluation done at random point.\n",
            "Time taken: 0.0573\n",
            "Function value obtained: 4204.8858\n",
            "Current minimum: 4201.4513\n",
            "Iteration No: 7 started. Evaluating function at random point.\n",
            "Iteration No: 7 ended. Evaluation done at random point.\n",
            "Time taken: 0.0607\n",
            "Function value obtained: 5514.2897\n",
            "Current minimum: 4201.4513\n",
            "Iteration No: 8 started. Evaluating function at random point.\n",
            "Iteration No: 8 ended. Evaluation done at random point.\n",
            "Time taken: 0.0640\n",
            "Function value obtained: 4195.2403\n",
            "Current minimum: 4195.2403\n",
            "Iteration No: 9 started. Evaluating function at random point.\n",
            "Iteration No: 9 ended. Evaluation done at random point.\n",
            "Time taken: 0.0612\n",
            "Function value obtained: 5567.5095\n",
            "Current minimum: 4195.2403\n",
            "Iteration No: 10 started. Evaluating function at random point.\n",
            "Iteration No: 10 ended. Evaluation done at random point.\n",
            "Time taken: 0.4897\n",
            "Function value obtained: 4803.1310\n",
            "Current minimum: 4195.2403\n",
            "Iteration No: 11 started. Searching for the next optimal point.\n",
            "Iteration No: 11 ended. Search finished for the next optimal point.\n",
            "Time taken: 0.4435\n",
            "Function value obtained: 4198.8134\n",
            "Current minimum: 4195.2403\n",
            "Iteration No: 12 started. Searching for the next optimal point.\n",
            "Iteration No: 12 ended. Search finished for the next optimal point.\n",
            "Time taken: 0.4748\n",
            "Function value obtained: 4201.6335\n",
            "Current minimum: 4195.2403\n",
            "Iteration No: 13 started. Searching for the next optimal point.\n",
            "Iteration No: 13 ended. Search finished for the next optimal point.\n",
            "Time taken: 0.3906\n",
            "Function value obtained: 4199.2262\n",
            "Current minimum: 4195.2403\n",
            "Iteration No: 14 started. Searching for the next optimal point.\n",
            "Iteration No: 14 ended. Search finished for the next optimal point.\n",
            "Time taken: 0.4006\n",
            "Function value obtained: 4198.1253\n",
            "Current minimum: 4195.2403\n",
            "Iteration No: 15 started. Searching for the next optimal point.\n",
            "Iteration No: 15 ended. Search finished for the next optimal point.\n",
            "Time taken: 0.4151\n",
            "Function value obtained: 4200.4214\n",
            "Current minimum: 4195.2403\n",
            "{'alpha': 1.4426412161378663, 'fit_intercept': True, 'normalize': True}\n"
          ],
          "name": "stdout"
        }
      ]
    },
    {
      "cell_type": "markdown",
      "metadata": {
        "id": "Am4WsrY2hKMU"
      },
      "source": [
        "# KNN Regressor"
      ]
    },
    {
      "cell_type": "code",
      "metadata": {
        "id": "pVa2XwgQhMp4"
      },
      "source": [
        "from sklearn.neighbors import KNeighborsRegressor\n",
        "def optimize_knn(param, param_names, x, y):\n",
        "  param = dict(zip(param_names, param))\n",
        "  model = KNeighborsRegressor(**param)\n",
        "  return -np.mean(cross_val_score(model, x, y, cv = 10, n_jobs = -1, scoring = 'neg_mean_absolute_error'))\n"
      ],
      "execution_count": null,
      "outputs": []
    },
    {
      "cell_type": "code",
      "metadata": {
        "id": "GWjkpA97hc71"
      },
      "source": [
        "param_names = [\n",
        "'n_neighbors',\n",
        "'p'\n",
        "]\n",
        "\n",
        "param_space = [\n",
        "space.Integer(3, 100, name=\"n_neighbors\"),\n",
        "space.Categorical([2, 3], name = 'p')\n",
        "]\n"
      ],
      "execution_count": null,
      "outputs": []
    },
    {
      "cell_type": "code",
      "metadata": {
        "colab": {
          "base_uri": "https://localhost:8080/"
        },
        "id": "o7bHq8hPh3mY",
        "outputId": "e4be24fd-1648-447d-c980-bc94425cc808"
      },
      "source": [
        "optimization_function = partial(\n",
        "optimize_knn,\n",
        "param_names=param_names,\n",
        "x=x_train,\n",
        "y=y_train\n",
        ")\n",
        "\n",
        "result = gp_minimize(\n",
        "optimization_function,\n",
        "dimensions=param_space,\n",
        "n_calls=50,\n",
        "n_random_starts=40,\n",
        "verbose=10\n",
        ")\n",
        "\n",
        "best_params = dict(\n",
        "zip(\n",
        "param_names,\n",
        "result.x\n",
        ")\n",
        ")\n",
        "print(best_params)"
      ],
      "execution_count": null,
      "outputs": [
        {
          "output_type": "stream",
          "text": [
            "Iteration No: 1 started. Evaluating function at random point.\n",
            "Iteration No: 1 ended. Evaluation done at random point.\n",
            "Time taken: 0.1424\n",
            "Function value obtained: 8956.6780\n",
            "Current minimum: 8956.6780\n",
            "Iteration No: 2 started. Evaluating function at random point.\n",
            "Iteration No: 2 ended. Evaluation done at random point.\n",
            "Time taken: 0.1889\n",
            "Function value obtained: 9002.6658\n",
            "Current minimum: 8956.6780\n",
            "Iteration No: 3 started. Evaluating function at random point.\n",
            "Iteration No: 3 ended. Evaluation done at random point.\n",
            "Time taken: 0.0775\n",
            "Function value obtained: 8845.8637\n",
            "Current minimum: 8845.8637\n",
            "Iteration No: 4 started. Evaluating function at random point.\n",
            "Iteration No: 4 ended. Evaluation done at random point.\n",
            "Time taken: 0.0691\n",
            "Function value obtained: 8661.9856\n",
            "Current minimum: 8661.9856\n",
            "Iteration No: 5 started. Evaluating function at random point.\n",
            "Iteration No: 5 ended. Evaluation done at random point.\n",
            "Time taken: 0.0755\n",
            "Function value obtained: 8845.8637\n",
            "Current minimum: 8661.9856\n",
            "Iteration No: 6 started. Evaluating function at random point.\n",
            "Iteration No: 6 ended. Evaluation done at random point.\n",
            "Time taken: 0.1739\n",
            "Function value obtained: 8976.4255\n",
            "Current minimum: 8661.9856\n",
            "Iteration No: 7 started. Evaluating function at random point.\n",
            "Iteration No: 7 ended. Evaluation done at random point.\n",
            "Time taken: 0.1268\n",
            "Function value obtained: 8898.0802\n",
            "Current minimum: 8661.9856\n",
            "Iteration No: 8 started. Evaluating function at random point.\n",
            "Iteration No: 8 ended. Evaluation done at random point.\n",
            "Time taken: 0.1389\n",
            "Function value obtained: 8976.0400\n",
            "Current minimum: 8661.9856\n",
            "Iteration No: 9 started. Evaluating function at random point.\n",
            "Iteration No: 9 ended. Evaluation done at random point.\n",
            "Time taken: 0.0709\n",
            "Function value obtained: 8401.7029\n",
            "Current minimum: 8401.7029\n",
            "Iteration No: 10 started. Evaluating function at random point.\n",
            "Iteration No: 10 ended. Evaluation done at random point.\n",
            "Time taken: 0.1275\n",
            "Function value obtained: 8931.3580\n",
            "Current minimum: 8401.7029\n",
            "Iteration No: 11 started. Evaluating function at random point.\n",
            "Iteration No: 11 ended. Evaluation done at random point.\n",
            "Time taken: 0.0831\n",
            "Function value obtained: 8905.5597\n",
            "Current minimum: 8401.7029\n",
            "Iteration No: 12 started. Evaluating function at random point.\n",
            "Iteration No: 12 ended. Evaluation done at random point.\n",
            "Time taken: 0.0740\n",
            "Function value obtained: 8843.9311\n",
            "Current minimum: 8401.7029\n",
            "Iteration No: 13 started. Evaluating function at random point.\n",
            "Iteration No: 13 ended. Evaluation done at random point.\n",
            "Time taken: 0.1463\n",
            "Function value obtained: 8974.9108\n",
            "Current minimum: 8401.7029\n",
            "Iteration No: 14 started. Evaluating function at random point.\n",
            "Iteration No: 14 ended. Evaluation done at random point.\n",
            "Time taken: 0.0695\n",
            "Function value obtained: 8678.0265\n",
            "Current minimum: 8401.7029\n",
            "Iteration No: 15 started. Evaluating function at random point.\n",
            "Iteration No: 15 ended. Evaluation done at random point.\n",
            "Time taken: 0.1991\n",
            "Function value obtained: 9009.3035\n",
            "Current minimum: 8401.7029\n",
            "Iteration No: 16 started. Evaluating function at random point.\n",
            "Iteration No: 16 ended. Evaluation done at random point.\n",
            "Time taken: 0.0715\n",
            "Function value obtained: 8370.4074\n",
            "Current minimum: 8370.4074\n",
            "Iteration No: 17 started. Evaluating function at random point.\n",
            "Iteration No: 17 ended. Evaluation done at random point.\n",
            "Time taken: 0.1344\n",
            "Function value obtained: 8950.5704\n",
            "Current minimum: 8370.4074\n",
            "Iteration No: 18 started. Evaluating function at random point.\n",
            "Iteration No: 18 ended. Evaluation done at random point.\n",
            "Time taken: 0.0828\n",
            "Function value obtained: 8912.6648\n",
            "Current minimum: 8370.4074\n",
            "Iteration No: 19 started. Evaluating function at random point.\n",
            "Iteration No: 19 ended. Evaluation done at random point.\n",
            "Time taken: 0.1876\n",
            "Function value obtained: 9002.9613\n",
            "Current minimum: 8370.4074\n",
            "Iteration No: 20 started. Evaluating function at random point.\n",
            "Iteration No: 20 ended. Evaluation done at random point.\n",
            "Time taken: 0.0715\n",
            "Function value obtained: 8720.9394\n",
            "Current minimum: 8370.4074\n",
            "Iteration No: 21 started. Evaluating function at random point.\n",
            "Iteration No: 21 ended. Evaluation done at random point.\n",
            "Time taken: 0.1233\n",
            "Function value obtained: 8820.7934\n",
            "Current minimum: 8370.4074\n",
            "Iteration No: 22 started. Evaluating function at random point.\n",
            "Iteration No: 22 ended. Evaluation done at random point.\n",
            "Time taken: 0.0718\n",
            "Function value obtained: 8517.1822\n",
            "Current minimum: 8370.4074\n",
            "Iteration No: 23 started. Evaluating function at random point.\n",
            "Iteration No: 23 ended. Evaluation done at random point.\n",
            "Time taken: 0.0812\n",
            "Function value obtained: 8912.9235\n",
            "Current minimum: 8370.4074\n",
            "Iteration No: 24 started. Evaluating function at random point.\n",
            "Iteration No: 24 ended. Evaluation done at random point.\n",
            "Time taken: 0.0670\n",
            "Function value obtained: 8224.1844\n",
            "Current minimum: 8224.1844\n",
            "Iteration No: 25 started. Evaluating function at random point.\n",
            "Iteration No: 25 ended. Evaluation done at random point.\n",
            "Time taken: 0.0793\n",
            "Function value obtained: 8850.9224\n",
            "Current minimum: 8224.1844\n",
            "Iteration No: 26 started. Evaluating function at random point.\n",
            "Iteration No: 26 ended. Evaluation done at random point.\n",
            "Time taken: 0.1686\n",
            "Function value obtained: 8990.5829\n",
            "Current minimum: 8224.1844\n",
            "Iteration No: 27 started. Evaluating function at random point.\n",
            "Iteration No: 27 ended. Evaluation done at random point.\n",
            "Time taken: 0.1709\n",
            "Function value obtained: 8976.4255\n",
            "Current minimum: 8224.1844\n",
            "Iteration No: 28 started. Evaluating function at random point.\n",
            "Iteration No: 28 ended. Evaluation done at random point.\n",
            "Time taken: 0.0708\n",
            "Function value obtained: 8824.0423\n",
            "Current minimum: 8224.1844\n",
            "Iteration No: 29 started. Evaluating function at random point.\n",
            "Iteration No: 29 ended. Evaluation done at random point.\n",
            "Time taken: 0.1825\n",
            "Function value obtained: 8997.6071\n",
            "Current minimum: 8224.1844\n",
            "Iteration No: 30 started. Evaluating function at random point.\n",
            "Iteration No: 30 ended. Evaluation done at random point.\n",
            "Time taken: 0.0680\n",
            "Function value obtained: 7773.5056\n",
            "Current minimum: 7773.5056\n",
            "Iteration No: 31 started. Evaluating function at random point.\n",
            "Iteration No: 31 ended. Evaluation done at random point.\n",
            "Time taken: 0.0828\n",
            "Function value obtained: 8912.7594\n",
            "Current minimum: 7773.5056\n",
            "Iteration No: 32 started. Evaluating function at random point.\n",
            "Iteration No: 32 ended. Evaluation done at random point.\n",
            "Time taken: 0.1830\n",
            "Function value obtained: 8992.7544\n",
            "Current minimum: 7773.5056\n",
            "Iteration No: 33 started. Evaluating function at random point.\n",
            "Iteration No: 33 ended. Evaluation done at random point.\n",
            "Time taken: 0.1153\n",
            "Function value obtained: 8672.0448\n",
            "Current minimum: 7773.5056\n",
            "Iteration No: 34 started. Evaluating function at random point.\n",
            "Iteration No: 34 ended. Evaluation done at random point.\n",
            "Time taken: 0.1484\n",
            "Function value obtained: 8969.9646\n",
            "Current minimum: 7773.5056\n",
            "Iteration No: 35 started. Evaluating function at random point.\n",
            "Iteration No: 35 ended. Evaluation done at random point.\n",
            "Time taken: 0.1636\n",
            "Function value obtained: 8986.4160\n",
            "Current minimum: 7773.5056\n",
            "Iteration No: 36 started. Evaluating function at random point.\n",
            "Iteration No: 36 ended. Evaluation done at random point.\n",
            "Time taken: 0.1572\n",
            "Function value obtained: 8992.7664\n",
            "Current minimum: 7773.5056\n",
            "Iteration No: 37 started. Evaluating function at random point.\n",
            "Iteration No: 37 ended. Evaluation done at random point.\n",
            "Time taken: 0.0664\n",
            "Function value obtained: 8146.7925\n",
            "Current minimum: 7773.5056\n",
            "Iteration No: 38 started. Evaluating function at random point.\n",
            "Iteration No: 38 ended. Evaluation done at random point.\n",
            "Time taken: 0.0801\n",
            "Function value obtained: 8905.7587\n",
            "Current minimum: 7773.5056\n",
            "Iteration No: 39 started. Evaluating function at random point.\n",
            "Iteration No: 39 ended. Evaluation done at random point.\n",
            "Time taken: 0.1770\n",
            "Function value obtained: 8984.3144\n",
            "Current minimum: 7773.5056\n",
            "Iteration No: 40 started. Evaluating function at random point.\n",
            "Iteration No: 40 ended. Evaluation done at random point.\n",
            "Time taken: 0.6916\n",
            "Function value obtained: 8093.4107\n",
            "Current minimum: 7773.5056\n",
            "Iteration No: 41 started. Searching for the next optimal point.\n",
            "Iteration No: 41 ended. Search finished for the next optimal point.\n",
            "Time taken: 0.6331\n",
            "Function value obtained: 7223.5789\n",
            "Current minimum: 7223.5789\n",
            "Iteration No: 42 started. Searching for the next optimal point.\n",
            "Iteration No: 42 ended. Search finished for the next optimal point.\n",
            "Time taken: 0.7684\n",
            "Function value obtained: 8965.7587\n",
            "Current minimum: 7223.5789\n",
            "Iteration No: 43 started. Searching for the next optimal point.\n",
            "Iteration No: 43 ended. Search finished for the next optimal point.\n",
            "Time taken: 0.6792\n",
            "Function value obtained: 7683.4501\n",
            "Current minimum: 7223.5789\n",
            "Iteration No: 44 started. Searching for the next optimal point.\n"
          ],
          "name": "stdout"
        },
        {
          "output_type": "stream",
          "text": [
            "/usr/local/lib/python3.7/dist-packages/skopt/optimizer/optimizer.py:449: UserWarning: The objective has been evaluated at this point before.\n",
            "  warnings.warn(\"The objective has been evaluated \"\n"
          ],
          "name": "stderr"
        },
        {
          "output_type": "stream",
          "text": [
            "Iteration No: 44 ended. Search finished for the next optimal point.\n",
            "Time taken: 0.6678\n",
            "Function value obtained: 7683.4501\n",
            "Current minimum: 7223.5789\n",
            "Iteration No: 45 started. Searching for the next optimal point.\n",
            "Iteration No: 45 ended. Search finished for the next optimal point.\n",
            "Time taken: 0.6856\n",
            "Function value obtained: 7525.3617\n",
            "Current minimum: 7223.5789\n",
            "Iteration No: 46 started. Searching for the next optimal point.\n"
          ],
          "name": "stdout"
        },
        {
          "output_type": "stream",
          "text": [
            "/usr/local/lib/python3.7/dist-packages/skopt/optimizer/optimizer.py:449: UserWarning: The objective has been evaluated at this point before.\n",
            "  warnings.warn(\"The objective has been evaluated \"\n"
          ],
          "name": "stderr"
        },
        {
          "output_type": "stream",
          "text": [
            "Iteration No: 46 ended. Search finished for the next optimal point.\n",
            "Time taken: 0.6964\n",
            "Function value obtained: 7525.3617\n",
            "Current minimum: 7223.5789\n",
            "Iteration No: 47 started. Searching for the next optimal point.\n"
          ],
          "name": "stdout"
        },
        {
          "output_type": "stream",
          "text": [
            "/usr/local/lib/python3.7/dist-packages/skopt/optimizer/optimizer.py:449: UserWarning: The objective has been evaluated at this point before.\n",
            "  warnings.warn(\"The objective has been evaluated \"\n"
          ],
          "name": "stderr"
        },
        {
          "output_type": "stream",
          "text": [
            "Iteration No: 47 ended. Search finished for the next optimal point.\n",
            "Time taken: 0.6836\n",
            "Function value obtained: 7525.3617\n",
            "Current minimum: 7223.5789\n",
            "Iteration No: 48 started. Searching for the next optimal point.\n"
          ],
          "name": "stdout"
        },
        {
          "output_type": "stream",
          "text": [
            "/usr/local/lib/python3.7/dist-packages/skopt/optimizer/optimizer.py:449: UserWarning: The objective has been evaluated at this point before.\n",
            "  warnings.warn(\"The objective has been evaluated \"\n"
          ],
          "name": "stderr"
        },
        {
          "output_type": "stream",
          "text": [
            "Iteration No: 48 ended. Search finished for the next optimal point.\n",
            "Time taken: 0.6719\n",
            "Function value obtained: 7525.3617\n",
            "Current minimum: 7223.5789\n",
            "Iteration No: 49 started. Searching for the next optimal point.\n"
          ],
          "name": "stdout"
        },
        {
          "output_type": "stream",
          "text": [
            "/usr/local/lib/python3.7/dist-packages/skopt/optimizer/optimizer.py:449: UserWarning: The objective has been evaluated at this point before.\n",
            "  warnings.warn(\"The objective has been evaluated \"\n"
          ],
          "name": "stderr"
        },
        {
          "output_type": "stream",
          "text": [
            "Iteration No: 49 ended. Search finished for the next optimal point.\n",
            "Time taken: 0.7124\n",
            "Function value obtained: 7525.3617\n",
            "Current minimum: 7223.5789\n",
            "Iteration No: 50 started. Searching for the next optimal point.\n"
          ],
          "name": "stdout"
        },
        {
          "output_type": "stream",
          "text": [
            "/usr/local/lib/python3.7/dist-packages/skopt/optimizer/optimizer.py:449: UserWarning: The objective has been evaluated at this point before.\n",
            "  warnings.warn(\"The objective has been evaluated \"\n"
          ],
          "name": "stderr"
        },
        {
          "output_type": "stream",
          "text": [
            "Iteration No: 50 ended. Search finished for the next optimal point.\n",
            "Time taken: 0.6904\n",
            "Function value obtained: 7223.5789\n",
            "Current minimum: 7223.5789\n",
            "{'n_neighbors': 3, 'p': 2}\n"
          ],
          "name": "stdout"
        }
      ]
    },
    {
      "cell_type": "markdown",
      "metadata": {
        "id": "Pp24H-JTag93"
      },
      "source": [
        "# SVR"
      ]
    },
    {
      "cell_type": "code",
      "metadata": {
        "id": "zm93-oBjamEx"
      },
      "source": [
        "from sklearn.svm import SVR\n",
        "def optimize_svr(param, param_names, x, y):\n",
        "  param = dict(zip(param_names, param))\n",
        "  model = SVR(**param)\n",
        "  return -np.mean(cross_val_score(model, x, y, cv = 10, n_jobs = -1, scoring = 'neg_mean_absolute_error'))\n"
      ],
      "execution_count": null,
      "outputs": []
    },
    {
      "cell_type": "code",
      "metadata": {
        "id": "IN_t9c5MaxAO"
      },
      "source": [
        "param_names = [\n",
        "'kernel', \n",
        "'C',\n",
        "'epsilon',\n",
        "'degree'\n",
        "]\n",
        "\n",
        "param_space = [\n",
        "space.Categorical(['poly', 'rbf'], name = 'Kernel'),\n",
        "space.Real(0.001, 10, prior=\"uniform\", name=\"C\"),\n",
        "space.Real(0.01, 2, prior=\"uniform\", name=\"epsilon\"),\n",
        "space.Integer(3, 10, name = 'degree')\n",
        "]\n"
      ],
      "execution_count": null,
      "outputs": []
    },
    {
      "cell_type": "code",
      "metadata": {
        "colab": {
          "base_uri": "https://localhost:8080/"
        },
        "id": "Zd1E9pkicCFd",
        "outputId": "02adbd3b-626b-4a78-9614-c9a7467c2240"
      },
      "source": [
        "optimization_function = partial(\n",
        "optimize_svr,\n",
        "param_names=param_names,\n",
        "x=x_train,\n",
        "y=y_train\n",
        ")\n",
        "\n",
        "result = gp_minimize(\n",
        "optimization_function,\n",
        "dimensions=param_space,\n",
        "n_calls=15,\n",
        "n_random_starts=10,\n",
        "verbose=10\n",
        ")\n",
        "\n",
        "best_params = dict(\n",
        "zip(\n",
        "param_names,\n",
        "result.x\n",
        ")\n",
        ")\n",
        "print(best_params)"
      ],
      "execution_count": null,
      "outputs": [
        {
          "output_type": "stream",
          "text": [
            "Iteration No: 1 started. Evaluating function at random point.\n",
            "Iteration No: 1 ended. Evaluation done at random point.\n",
            "Time taken: 0.6691\n",
            "Function value obtained: 7152.8083\n",
            "Current minimum: 7152.8083\n",
            "Iteration No: 2 started. Evaluating function at random point.\n",
            "Iteration No: 2 ended. Evaluation done at random point.\n",
            "Time taken: 0.6902\n",
            "Function value obtained: 7139.4868\n",
            "Current minimum: 7139.4868\n",
            "Iteration No: 3 started. Evaluating function at random point.\n",
            "Iteration No: 3 ended. Evaluation done at random point.\n",
            "Time taken: 0.9092\n",
            "Function value obtained: 7360.7458\n",
            "Current minimum: 7139.4868\n",
            "Iteration No: 4 started. Evaluating function at random point.\n",
            "Iteration No: 4 ended. Evaluation done at random point.\n",
            "Time taken: 0.7030\n",
            "Function value obtained: 7421.5572\n",
            "Current minimum: 7139.4868\n",
            "Iteration No: 5 started. Evaluating function at random point.\n",
            "Iteration No: 5 ended. Evaluation done at random point.\n",
            "Time taken: 0.6540\n",
            "Function value obtained: 6954.4183\n",
            "Current minimum: 6954.4183\n",
            "Iteration No: 6 started. Evaluating function at random point.\n",
            "Iteration No: 6 ended. Evaluation done at random point.\n",
            "Time taken: 0.7587\n",
            "Function value obtained: 7361.0078\n",
            "Current minimum: 6954.4183\n",
            "Iteration No: 7 started. Evaluating function at random point.\n",
            "Iteration No: 7 ended. Evaluation done at random point.\n",
            "Time taken: 0.6427\n",
            "Function value obtained: 7721.5375\n",
            "Current minimum: 6954.4183\n",
            "Iteration No: 8 started. Evaluating function at random point.\n",
            "Iteration No: 8 ended. Evaluation done at random point.\n",
            "Time taken: 0.7556\n",
            "Function value obtained: 7209.4806\n",
            "Current minimum: 6954.4183\n",
            "Iteration No: 9 started. Evaluating function at random point.\n",
            "Iteration No: 9 ended. Evaluation done at random point.\n",
            "Time taken: 0.6559\n",
            "Function value obtained: 6937.1225\n",
            "Current minimum: 6937.1225\n",
            "Iteration No: 10 started. Evaluating function at random point.\n",
            "Iteration No: 10 ended. Evaluation done at random point.\n",
            "Time taken: 1.0445\n",
            "Function value obtained: 7274.4222\n",
            "Current minimum: 6937.1225\n",
            "Iteration No: 11 started. Searching for the next optimal point.\n",
            "Iteration No: 11 ended. Search finished for the next optimal point.\n",
            "Time taken: 0.9677\n",
            "Function value obtained: 6937.1355\n",
            "Current minimum: 6937.1225\n",
            "Iteration No: 12 started. Searching for the next optimal point.\n",
            "Iteration No: 12 ended. Search finished for the next optimal point.\n",
            "Time taken: 1.0001\n",
            "Function value obtained: 6937.1330\n",
            "Current minimum: 6937.1225\n",
            "Iteration No: 13 started. Searching for the next optimal point.\n"
          ],
          "name": "stdout"
        }
      ]
    },
    {
      "cell_type": "markdown",
      "metadata": {
        "id": "09WhON9Fccuv"
      },
      "source": [
        "# Decision Tree"
      ]
    },
    {
      "cell_type": "code",
      "metadata": {
        "id": "FfGlOrB0chfP"
      },
      "source": [
        "from sklearn.tree import DecisionTreeRegressor\n",
        "def optimize_dtr(param, param_names, x, y):\n",
        "  param = dict(zip(param_names, param))\n",
        "  model = DecisionTreeRegressor(**param)\n",
        "  return -np.mean(cross_val_score(model, x, y, cv = 10, n_jobs = -1, scoring = 'neg_mean_absolute_error'))\n"
      ],
      "execution_count": null,
      "outputs": []
    },
    {
      "cell_type": "code",
      "metadata": {
        "id": "T6PNxoWEc4Wo"
      },
      "source": [
        "param_names = [\n",
        "'criterion',\n",
        "'splitter',\n",
        "'max_depth',\n",
        "'min_samples_split',\n",
        "'min_samples_leaf',\n",
        "'ccp_alpha'\n",
        "]\n",
        "\n",
        "param_space = [\n",
        "space.Categorical(['mse', 'friedman_mse'], name = 'criterion'),\n",
        "space.Categorical(['best', 'random'], name = 'splitter'),\n",
        "space.Integer(3, 10, name = 'max_depth'),\n",
        "space.Integer(1, 10, name='min_samples_split'),\n",
        "space.Integer(1, 10, name='min_samples_leaf'),\n",
        "space.Real(0.01, 1, prior='uniform', name = 'ccp_alpha')\n",
        "]\n"
      ],
      "execution_count": null,
      "outputs": []
    },
    {
      "cell_type": "code",
      "metadata": {
        "id": "5pReWp_iePQM"
      },
      "source": [
        "optimization_function = partial(\n",
        "optimize_dtr,\n",
        "param_names=param_names,\n",
        "x=x_train,\n",
        "y=y_train\n",
        ")\n",
        "\n",
        "result = gp_minimize(\n",
        "optimization_function,\n",
        "dimensions=param_space,\n",
        "n_calls=20,\n",
        "n_random_starts=20,\n",
        "verbose=10\n",
        ")\n",
        "\n",
        "best_params = dict(\n",
        "zip(\n",
        "param_names,\n",
        "result.x\n",
        ")\n",
        ")\n",
        "print(best_params)"
      ],
      "execution_count": null,
      "outputs": []
    },
    {
      "cell_type": "markdown",
      "metadata": {
        "id": "5Avl2xytfRsD"
      },
      "source": [
        "# XGB"
      ]
    },
    {
      "cell_type": "code",
      "metadata": {
        "id": "dZrANvzdfUA9"
      },
      "source": [
        "from xgboost import XGBRegressor\n",
        "def optimize_xgb(param, param_names, x, y):\n",
        "  param = dict(zip(param_names, param))\n",
        "  model = XGBRegressor(**param)\n",
        "  return -np.mean(cross_val_score(model, x, y, cv = 10, n_jobs = -1, scoring = 'neg_mean_absolute_error'))\n"
      ],
      "execution_count": null,
      "outputs": []
    },
    {
      "cell_type": "code",
      "metadata": {
        "id": "PVPjQstCfo-D"
      },
      "source": [
        "param_names = [\n",
        "\"max_depth\",\n",
        "\"n_estimators\",\n",
        "'eta',\n",
        "'gamma',\n",
        "\"min_child_weight\"\n",
        "]\n",
        "\n",
        "param_space = [\n",
        "space.Integer(3, 15, name=\"max_depth\"),\n",
        "space.Integer(100, 1500, name=\"n_estimators\"),\n",
        "space.Real(0.01, 1, prior=\"uniform\", name=\"eta\"),\n",
        "space.Real(0.01, 1, prior=\"uniform\", name=\"gamma\"),\n",
        "space.Integer(1, 10, name='min_child_weight'),\n",
        "]\n"
      ],
      "execution_count": null,
      "outputs": []
    },
    {
      "cell_type": "code",
      "metadata": {
        "id": "E0KaMGcOgtnB"
      },
      "source": [
        "optimization_function = partial(\n",
        "optimize_xgb,\n",
        "param_names=param_names,\n",
        "x=x_train,\n",
        "y=y_train\n",
        ")\n",
        "\n",
        "result = gp_minimize(\n",
        "optimization_function,\n",
        "dimensions=param_space,\n",
        "n_calls=20,\n",
        "n_random_starts=20,\n",
        "verbose=10\n",
        ")\n",
        "\n",
        "best_params = dict(\n",
        "zip(\n",
        "param_names,\n",
        "result.x\n",
        ")\n",
        ")\n",
        "print(best_params)"
      ],
      "execution_count": null,
      "outputs": []
    }
  ]
}